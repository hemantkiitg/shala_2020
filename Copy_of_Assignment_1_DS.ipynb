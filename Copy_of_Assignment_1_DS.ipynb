{
  "nbformat": 4,
  "nbformat_minor": 0,
  "metadata": {
    "colab": {
      "name": "Copy of Assignment -1 - DS.ipynb",
      "provenance": [],
      "collapsed_sections": [],
      "include_colab_link": true
    },
    "kernelspec": {
      "name": "python3",
      "display_name": "Python 3"
    }
  },
  "cells": [
    {
      "cell_type": "markdown",
      "metadata": {
        "id": "view-in-github",
        "colab_type": "text"
      },
      "source": [
        "<a href=\"https://colab.research.google.com/github/hemantkiitg/shala_2020/blob/master/Copy_of_Assignment_1_DS.ipynb\" target=\"_parent\"><img src=\"https://colab.research.google.com/assets/colab-badge.svg\" alt=\"Open In Colab\"/></a>"
      ]
    },
    {
      "cell_type": "markdown",
      "metadata": {
        "id": "hmr2U-GChnlR",
        "colab_type": "text"
      },
      "source": [
        "\n",
        "# **Assignment - 1 : Getting Started**\n",
        "\n",
        "---\n",
        "\n",
        "This assignment will get you familiarized with python libraries required for ***data science*** and ***machine learning***. You will have to complete the code snippets and run them. "
      ]
    },
    {
      "cell_type": "markdown",
      "metadata": {
        "id": "211pD45xEO0u",
        "colab_type": "text"
      },
      "source": [
        "## **Note :**   Use only the methods and attributes of the ```numpy``` library. **Do not** hard-code them. Avoid loops as much as possible."
      ]
    },
    {
      "cell_type": "markdown",
      "metadata": {
        "id": "O7v9C4mun3SQ",
        "colab_type": "text"
      },
      "source": [
        "---\n",
        "## Part - 1\n",
        " In this part, you will work with the library ```numpy```. \n",
        "\n",
        "\n"
      ]
    },
    {
      "cell_type": "markdown",
      "metadata": {
        "id": "846yDaXQwiMD",
        "colab_type": "text"
      },
      "source": [
        "Import ```numpy``` with an alias name ```np```. Initialize two arrays $a$, $b$ of size $3 \\times 5$ with random values and print them. "
      ]
    },
    {
      "cell_type": "code",
      "metadata": {
        "id": "_MyeCO3_o3oq",
        "colab_type": "code",
        "outputId": "dce28ae1-1d22-44cb-ada5-31345a854919",
        "colab": {
          "base_uri": "https://localhost:8080/",
          "height": 121
        }
      },
      "source": [
        "import numpy as np\n",
        "a=np.random.rand(3,5)\n",
        "b=np.random.rand(3,5)\n",
        "print ( a )\n",
        "print ( b )"
      ],
      "execution_count": 13,
      "outputs": [
        {
          "output_type": "stream",
          "text": [
            "[[0.1920723  0.72566962 0.7849367  0.97209836 0.85097142]\n",
            " [0.54359433 0.08979087 0.48887324 0.92793635 0.7876182 ]\n",
            " [0.48509423 0.45527936 0.21798577 0.17721338 0.07362367]]\n",
            "[[0.89239319 0.64017662 0.14333232 0.41412692 0.04910892]\n",
            " [0.20937335 0.73070812 0.65112277 0.4789783  0.27478051]\n",
            " [0.65222313 0.95644951 0.43552056 0.07013251 0.05773149]]\n"
          ],
          "name": "stdout"
        }
      ]
    },
    {
      "cell_type": "markdown",
      "metadata": {
        "id": "p7jtpYT4wiO6",
        "colab_type": "text"
      },
      "source": [
        "Initialize and print two arrays $c$ and $d$ having the following properties:\n",
        "*   $c$ is a row vector with all positive integer values less than 100\n",
        "* $d$ is a square matrix of size 3 having all entries as 0.0"
      ]
    },
    {
      "cell_type": "code",
      "metadata": {
        "id": "a2lJdRf8x9f2",
        "colab_type": "code",
        "outputId": "5b78e0de-50d7-4eb8-ff7c-b0f71dd109d2",
        "colab": {
          "base_uri": "https://localhost:8080/",
          "height": 156
        }
      },
      "source": [
        "c=np.array(range(100))\n",
        "d=np.zeros((3,3))\n",
        "print (d)\n",
        "print (c)\n",
        "\n"
      ],
      "execution_count": 14,
      "outputs": [
        {
          "output_type": "stream",
          "text": [
            "[[0. 0. 0.]\n",
            " [0. 0. 0.]\n",
            " [0. 0. 0.]]\n",
            "[ 0  1  2  3  4  5  6  7  8  9 10 11 12 13 14 15 16 17 18 19 20 21 22 23\n",
            " 24 25 26 27 28 29 30 31 32 33 34 35 36 37 38 39 40 41 42 43 44 45 46 47\n",
            " 48 49 50 51 52 53 54 55 56 57 58 59 60 61 62 63 64 65 66 67 68 69 70 71\n",
            " 72 73 74 75 76 77 78 79 80 81 82 83 84 85 86 87 88 89 90 91 92 93 94 95\n",
            " 96 97 98 99]\n"
          ],
          "name": "stdout"
        }
      ]
    },
    {
      "cell_type": "markdown",
      "metadata": {
        "id": "qqgtSsa88Zmh",
        "colab_type": "text"
      },
      "source": [
        "We have $e$ as following : ```e = [[1,2,3],[4,5,6],[7,8,9]]```. Change $e$ as a numpy array and print it."
      ]
    },
    {
      "cell_type": "code",
      "metadata": {
        "id": "Krhm4bVE7RET",
        "colab_type": "code",
        "outputId": "eb390cf3-6bf6-471f-dcdc-812721675156",
        "colab": {
          "base_uri": "https://localhost:8080/",
          "height": 69
        }
      },
      "source": [
        "e = [[1,2,3],[4,5,6],[7,8,9]]\n",
        "\n",
        "e=np.array(e)\n",
        "print (e)"
      ],
      "execution_count": 15,
      "outputs": [
        {
          "output_type": "stream",
          "text": [
            "[[1 2 3]\n",
            " [4 5 6]\n",
            " [7 8 9]]\n"
          ],
          "name": "stdout"
        }
      ]
    },
    {
      "cell_type": "markdown",
      "metadata": {
        "id": "1qTikI0foam9",
        "colab_type": "text"
      },
      "source": [
        "$f$ and $g$ are two square matrices of size 5 such that all the entries of $f$ are 1 and $g$ is an identity matrix. Initialize them and print them"
      ]
    },
    {
      "cell_type": "code",
      "metadata": {
        "id": "DvaLckI49aBV",
        "colab_type": "code",
        "outputId": "76bdb7f9-4d6e-4b0f-f8d1-ebf82e683b06",
        "colab": {
          "base_uri": "https://localhost:8080/",
          "height": 191
        }
      },
      "source": [
        "f=np.ones((5,5))\n",
        "g=np.eye(5,5)\n",
        "print (f)\n",
        "print (g)"
      ],
      "execution_count": 16,
      "outputs": [
        {
          "output_type": "stream",
          "text": [
            "[[1. 1. 1. 1. 1.]\n",
            " [1. 1. 1. 1. 1.]\n",
            " [1. 1. 1. 1. 1.]\n",
            " [1. 1. 1. 1. 1.]\n",
            " [1. 1. 1. 1. 1.]]\n",
            "[[1. 0. 0. 0. 0.]\n",
            " [0. 1. 0. 0. 0.]\n",
            " [0. 0. 1. 0. 0.]\n",
            " [0. 0. 0. 1. 0.]\n",
            " [0. 0. 0. 0. 1.]]\n"
          ],
          "name": "stdout"
        }
      ]
    },
    {
      "cell_type": "markdown",
      "metadata": {
        "id": "gcBZAZibAKcg",
        "colab_type": "text"
      },
      "source": [
        "Reshape $c$ into a $10 \\times 10$ matrix and name it $h$. Now flatten $h$, call it $c^\\prime$ and print **YES** when the shapes of $c$ and $c^\\prime$ are same. Otherwise print **NO**."
      ]
    },
    {
      "cell_type": "code",
      "metadata": {
        "id": "I71vtO9bA9Pi",
        "colab_type": "code",
        "outputId": "68e37f3d-090e-4766-dca8-23f0938e54b0",
        "colab": {
          "base_uri": "https://localhost:8080/",
          "height": 35
        }
      },
      "source": [
        "h=np.reshape(c,(10,10))\n",
        "c1=np.transpose(h)\n",
        "if (h.shape == c1.shape):\n",
        "  print( \"YES\" )\n",
        "else:\n",
        "  print( \"NO\")"
      ],
      "execution_count": 17,
      "outputs": [
        {
          "output_type": "stream",
          "text": [
            "YES\n"
          ],
          "name": "stdout"
        }
      ]
    },
    {
      "cell_type": "markdown",
      "metadata": {
        "id": "8FrecDPiA-Bv",
        "colab_type": "text"
      },
      "source": [
        "Let $A$ denote a randomly initialized three dimensional matrix of shape (2,10,5). Transpose $A$, call it $A^\\prime$, such that its shape is (5,2,10) and print it."
      ]
    },
    {
      "cell_type": "code",
      "metadata": {
        "id": "VbOKqSm6Bkaq",
        "colab_type": "code",
        "colab": {}
      },
      "source": [
        "A = np.random.rand(2,10,5)\n",
        "A1=np.transpose(A)\n"
      ],
      "execution_count": 0,
      "outputs": []
    },
    {
      "cell_type": "markdown",
      "metadata": {
        "id": "xR2zd-nkCani",
        "colab_type": "text"
      },
      "source": [
        "You have a matrix $X$ of size (10,5) filled with random values. Print the following :\n",
        "* Minimum value and index where it occured, for each column\n",
        "* Maximum value and the index where it occured, for each column\n",
        "* Minimum value and index where it occured, for each row\n",
        "* Maximum value and index where it occured, for each row\n",
        "* Minimum value and index where it occured, for the entire matrix\n",
        "* Maximum value and index where it occured, for the entire matrix"
      ]
    },
    {
      "cell_type": "code",
      "metadata": {
        "id": "FR2Wd4fWD_Og",
        "colab_type": "code",
        "outputId": "7e09a352-0ae8-40ba-c0a2-51f2f1213e7f",
        "colab": {
          "base_uri": "https://localhost:8080/",
          "height": 329
        }
      },
      "source": [
        "np.random.seed(0)\n",
        "X = np.random.rand(10,5)\n",
        "print(X)\n",
        "print ( np.min(X,axis=0))      #column\n",
        "print ( np.max(X,axis=0))      \n",
        "print ( np.min(X,axis=1))      #row   #in lec 0 denotes row and 1 denotes column\n",
        "print ( np.max(X,axis=1))\n",
        "print ( np.min(X))\n",
        "print ( np.max(X))\n",
        "\n"
      ],
      "execution_count": 19,
      "outputs": [
        {
          "output_type": "stream",
          "text": [
            "[[0.5488135  0.71518937 0.60276338 0.54488318 0.4236548 ]\n",
            " [0.64589411 0.43758721 0.891773   0.96366276 0.38344152]\n",
            " [0.79172504 0.52889492 0.56804456 0.92559664 0.07103606]\n",
            " [0.0871293  0.0202184  0.83261985 0.77815675 0.87001215]\n",
            " [0.97861834 0.79915856 0.46147936 0.78052918 0.11827443]\n",
            " [0.63992102 0.14335329 0.94466892 0.52184832 0.41466194]\n",
            " [0.26455561 0.77423369 0.45615033 0.56843395 0.0187898 ]\n",
            " [0.6176355  0.61209572 0.616934   0.94374808 0.6818203 ]\n",
            " [0.3595079  0.43703195 0.6976312  0.06022547 0.66676672]\n",
            " [0.67063787 0.21038256 0.1289263  0.31542835 0.36371077]]\n",
            "[0.0871293  0.0202184  0.1289263  0.06022547 0.0187898 ]\n",
            "[0.97861834 0.79915856 0.94466892 0.96366276 0.87001215]\n",
            "[0.4236548  0.38344152 0.07103606 0.0202184  0.11827443 0.14335329\n",
            " 0.0187898  0.61209572 0.06022547 0.1289263 ]\n",
            "[0.71518937 0.96366276 0.92559664 0.87001215 0.97861834 0.94466892\n",
            " 0.77423369 0.94374808 0.6976312  0.67063787]\n",
            "0.018789800436355142\n",
            "0.978618342232764\n"
          ],
          "name": "stdout"
        }
      ]
    },
    {
      "cell_type": "markdown",
      "metadata": {
        "id": "YpjW2ypkEGtS",
        "colab_type": "text"
      },
      "source": [
        "Find and print the following for the matrix X: \n",
        "* Mean of each row and column\n",
        "* Standard deviation of each row and column\n",
        "* Mean of the entire matrix\n",
        "* Standard deviation of entire matrix"
      ]
    },
    {
      "cell_type": "code",
      "metadata": {
        "id": "gMdm2pw0GWjf",
        "colab_type": "code",
        "outputId": "e2143a55-7db5-470e-8a40-885fd82a2bc5",
        "colab": {
          "base_uri": "https://localhost:8080/",
          "height": 156
        }
      },
      "source": [
        "print(np.mean(X,axis=1))  #MEAN ALONG ROW\n",
        "print(np.mean(X,axis=0))  #MEAN ALONG COLUMN\n",
        "\n",
        "print(np.std(X,axis=1))  # standard deviation along row\n",
        "print(np.std(X,axis=0))  # standard deviation along column\n",
        "\n",
        "print( np.mean(X))       #mean of entire matrix\n",
        "print( np.std(X))        #standard deiation of entire matrix"
      ],
      "execution_count": 20,
      "outputs": [
        {
          "output_type": "stream",
          "text": [
            "[0.56706085 0.66447172 0.57705944 0.51762729 0.62761197 0.5328907\n",
            " 0.41643268 0.69444672 0.44423265 0.33781717]\n",
            "[0.56044382 0.46781457 0.62009909 0.64025127 0.40121685]\n",
            "[0.09445299 0.23322986 0.29189733 0.38052993 0.30431633 0.26338419\n",
            " 0.25841437 0.12727959 0.23169975 0.18537332]\n",
            "[0.24687647 0.25752158 0.22948615 0.28054144 0.26584905]\n",
            "0.5379651182755409\n",
            "0.27226582292177587\n"
          ],
          "name": "stdout"
        }
      ]
    },
    {
      "cell_type": "markdown",
      "metadata": {
        "id": "7dw7W8HOGXKA",
        "colab_type": "text"
      },
      "source": [
        "Let $Y$ denote a square matrix of size 10 with random values. Print the following:\n",
        "* Determinant\n",
        "* Rank of the matrix\n",
        "* Diagonal Elements\n",
        "* Trace\n",
        "* Eigen values\n",
        "* Matrices obtained after Singular Value Decomposition\n",
        "* Inverse if exists, otherwise Pseudo-Inverse\n",
        "* Multiplication $Y$ with $X$\n",
        "* Element-wise multiplication of $Y$ and its inverse(or pseudo-inverse)"
      ]
    },
    {
      "cell_type": "code",
      "metadata": {
        "id": "Tswbn9hgL7yi",
        "colab_type": "code",
        "outputId": "4e584eee-c5d9-451a-b087-e2126c595f37",
        "colab": {
          "base_uri": "https://localhost:8080/",
          "height": 52
        }
      },
      "source": [
        "np.random.seed(3)\n",
        "Y = np.random.rand(10,10)\n",
        "print( np.linalg.det(Y))\n",
        "print ( np.linalg.matrix_rank(Y))\n",
        "#print ( np.linalg.tr)\n",
        "\n"
      ],
      "execution_count": 21,
      "outputs": [
        {
          "output_type": "stream",
          "text": [
            "-0.012807808169095483\n",
            "10\n"
          ],
          "name": "stdout"
        }
      ]
    },
    {
      "cell_type": "markdown",
      "metadata": {
        "id": "Qne3RnfOL6-4",
        "colab_type": "text"
      },
      "source": [
        "## End of Part - 1\n",
        " --- --- ---"
      ]
    },
    {
      "cell_type": "markdown",
      "metadata": {
        "id": "LA-m4UYkMPTe",
        "colab_type": "text"
      },
      "source": [
        "## Part - 2\n",
        "---\n",
        "In this part, you will be working with the library ```pandas```. Import this library with an alias name ```pd```."
      ]
    },
    {
      "cell_type": "code",
      "metadata": {
        "id": "i8z7TpnZSIms",
        "colab_type": "code",
        "colab": {}
      },
      "source": [
        "# Initial imports\n",
        "import numpy as np\n",
        "import matplotlib.pyplot as plt\n",
        "import pandas as pd\n"
      ],
      "execution_count": 0,
      "outputs": []
    },
    {
      "cell_type": "markdown",
      "metadata": {
        "id": "2v-HkHnyuQ3X",
        "colab_type": "text"
      },
      "source": [
        "Download dataset from: http://biostat.mc.vanderbilt.edu/wiki/pub/Main/DataSets/titanic3.csv\n",
        "Read the data and display the first 5 rows"
      ]
    },
    {
      "cell_type": "code",
      "metadata": {
        "id": "LinX5ywNTUIm",
        "colab_type": "code",
        "outputId": "a6906ae5-c925-41a6-ca77-bcc376d49d4f",
        "colab": {
          "base_uri": "https://localhost:8080/",
          "height": 271
        }
      },
      "source": [
        "#Download dataset from: http://biostat.mc.vanderbilt.edu/wiki/pub/Main/DataSets/titanic3.csv\n",
        "\n",
        "file_url = \"http://biostat.mc.vanderbilt.edu/wiki/pub/Main/DataSets/titanic3.csv\"\n",
        "df=pd.read_csv(file_url)\n",
        "df.head(5)\n"
      ],
      "execution_count": 25,
      "outputs": [
        {
          "output_type": "execute_result",
          "data": {
            "text/html": [
              "<div>\n",
              "<style scoped>\n",
              "    .dataframe tbody tr th:only-of-type {\n",
              "        vertical-align: middle;\n",
              "    }\n",
              "\n",
              "    .dataframe tbody tr th {\n",
              "        vertical-align: top;\n",
              "    }\n",
              "\n",
              "    .dataframe thead th {\n",
              "        text-align: right;\n",
              "    }\n",
              "</style>\n",
              "<table border=\"1\" class=\"dataframe\">\n",
              "  <thead>\n",
              "    <tr style=\"text-align: right;\">\n",
              "      <th></th>\n",
              "      <th>pclass</th>\n",
              "      <th>survived</th>\n",
              "      <th>name</th>\n",
              "      <th>sex</th>\n",
              "      <th>age</th>\n",
              "      <th>sibsp</th>\n",
              "      <th>parch</th>\n",
              "      <th>ticket</th>\n",
              "      <th>fare</th>\n",
              "      <th>cabin</th>\n",
              "      <th>embarked</th>\n",
              "      <th>boat</th>\n",
              "      <th>body</th>\n",
              "      <th>home.dest</th>\n",
              "    </tr>\n",
              "  </thead>\n",
              "  <tbody>\n",
              "    <tr>\n",
              "      <th>0</th>\n",
              "      <td>1</td>\n",
              "      <td>1</td>\n",
              "      <td>Allen, Miss. Elisabeth Walton</td>\n",
              "      <td>female</td>\n",
              "      <td>29.00</td>\n",
              "      <td>0</td>\n",
              "      <td>0</td>\n",
              "      <td>24160</td>\n",
              "      <td>211.3375</td>\n",
              "      <td>B5</td>\n",
              "      <td>S</td>\n",
              "      <td>2</td>\n",
              "      <td>NaN</td>\n",
              "      <td>St Louis, MO</td>\n",
              "    </tr>\n",
              "    <tr>\n",
              "      <th>1</th>\n",
              "      <td>1</td>\n",
              "      <td>1</td>\n",
              "      <td>Allison, Master. Hudson Trevor</td>\n",
              "      <td>male</td>\n",
              "      <td>0.92</td>\n",
              "      <td>1</td>\n",
              "      <td>2</td>\n",
              "      <td>113781</td>\n",
              "      <td>151.5500</td>\n",
              "      <td>C22 C26</td>\n",
              "      <td>S</td>\n",
              "      <td>11</td>\n",
              "      <td>NaN</td>\n",
              "      <td>Montreal, PQ / Chesterville, ON</td>\n",
              "    </tr>\n",
              "    <tr>\n",
              "      <th>2</th>\n",
              "      <td>1</td>\n",
              "      <td>0</td>\n",
              "      <td>Allison, Miss. Helen Loraine</td>\n",
              "      <td>female</td>\n",
              "      <td>2.00</td>\n",
              "      <td>1</td>\n",
              "      <td>2</td>\n",
              "      <td>113781</td>\n",
              "      <td>151.5500</td>\n",
              "      <td>C22 C26</td>\n",
              "      <td>S</td>\n",
              "      <td>NaN</td>\n",
              "      <td>NaN</td>\n",
              "      <td>Montreal, PQ / Chesterville, ON</td>\n",
              "    </tr>\n",
              "    <tr>\n",
              "      <th>3</th>\n",
              "      <td>1</td>\n",
              "      <td>0</td>\n",
              "      <td>Allison, Mr. Hudson Joshua Creighton</td>\n",
              "      <td>male</td>\n",
              "      <td>30.00</td>\n",
              "      <td>1</td>\n",
              "      <td>2</td>\n",
              "      <td>113781</td>\n",
              "      <td>151.5500</td>\n",
              "      <td>C22 C26</td>\n",
              "      <td>S</td>\n",
              "      <td>NaN</td>\n",
              "      <td>135.0</td>\n",
              "      <td>Montreal, PQ / Chesterville, ON</td>\n",
              "    </tr>\n",
              "    <tr>\n",
              "      <th>4</th>\n",
              "      <td>1</td>\n",
              "      <td>0</td>\n",
              "      <td>Allison, Mrs. Hudson J C (Bessie Waldo Daniels)</td>\n",
              "      <td>female</td>\n",
              "      <td>25.00</td>\n",
              "      <td>1</td>\n",
              "      <td>2</td>\n",
              "      <td>113781</td>\n",
              "      <td>151.5500</td>\n",
              "      <td>C22 C26</td>\n",
              "      <td>S</td>\n",
              "      <td>NaN</td>\n",
              "      <td>NaN</td>\n",
              "      <td>Montreal, PQ / Chesterville, ON</td>\n",
              "    </tr>\n",
              "  </tbody>\n",
              "</table>\n",
              "</div>"
            ],
            "text/plain": [
              "   pclass  survived  ...   body                        home.dest\n",
              "0       1         1  ...    NaN                     St Louis, MO\n",
              "1       1         1  ...    NaN  Montreal, PQ / Chesterville, ON\n",
              "2       1         0  ...    NaN  Montreal, PQ / Chesterville, ON\n",
              "3       1         0  ...  135.0  Montreal, PQ / Chesterville, ON\n",
              "4       1         0  ...    NaN  Montreal, PQ / Chesterville, ON\n",
              "\n",
              "[5 rows x 14 columns]"
            ]
          },
          "metadata": {
            "tags": []
          },
          "execution_count": 25
        }
      ]
    },
    {
      "cell_type": "markdown",
      "metadata": {
        "id": "vTk1-mF5WYFN",
        "colab_type": "text"
      },
      "source": [
        "### Preprocessing of the Dataset"
      ]
    },
    {
      "cell_type": "markdown",
      "metadata": {
        "id": "kx9UrI9WWt17",
        "colab_type": "text"
      },
      "source": [
        "\n",
        "\n",
        "---\n",
        "\n",
        "\n",
        "**1. Convert the categorical values of columns 'sex', 'embarked', 'pclass' into dummy values and add them into titanic_data_new DataFrame**\n",
        "\n",
        "\n",
        "\n",
        "\n",
        "---\n",
        "\n"
      ]
    },
    {
      "cell_type": "code",
      "metadata": {
        "id": "AwDh9njbZ0QU",
        "colab_type": "code",
        "colab": {
          "base_uri": "https://localhost:8080/",
          "height": 623
        },
        "outputId": "f0081feb-bf61-47d1-827f-5aad73f7186c"
      },
      "source": [
        "encoded_features=pd.get_dummies(df.sex)\n",
        "pd.concat([df,encoded_features],axis=1)\n"
      ],
      "execution_count": 30,
      "outputs": [
        {
          "output_type": "execute_result",
          "data": {
            "text/html": [
              "<div>\n",
              "<style scoped>\n",
              "    .dataframe tbody tr th:only-of-type {\n",
              "        vertical-align: middle;\n",
              "    }\n",
              "\n",
              "    .dataframe tbody tr th {\n",
              "        vertical-align: top;\n",
              "    }\n",
              "\n",
              "    .dataframe thead th {\n",
              "        text-align: right;\n",
              "    }\n",
              "</style>\n",
              "<table border=\"1\" class=\"dataframe\">\n",
              "  <thead>\n",
              "    <tr style=\"text-align: right;\">\n",
              "      <th></th>\n",
              "      <th>pclass</th>\n",
              "      <th>survived</th>\n",
              "      <th>name</th>\n",
              "      <th>sex</th>\n",
              "      <th>age</th>\n",
              "      <th>sibsp</th>\n",
              "      <th>parch</th>\n",
              "      <th>ticket</th>\n",
              "      <th>fare</th>\n",
              "      <th>cabin</th>\n",
              "      <th>embarked</th>\n",
              "      <th>boat</th>\n",
              "      <th>body</th>\n",
              "      <th>home.dest</th>\n",
              "      <th>female</th>\n",
              "      <th>male</th>\n",
              "    </tr>\n",
              "  </thead>\n",
              "  <tbody>\n",
              "    <tr>\n",
              "      <th>0</th>\n",
              "      <td>1</td>\n",
              "      <td>1</td>\n",
              "      <td>Allen, Miss. Elisabeth Walton</td>\n",
              "      <td>female</td>\n",
              "      <td>29.00</td>\n",
              "      <td>0</td>\n",
              "      <td>0</td>\n",
              "      <td>24160</td>\n",
              "      <td>211.3375</td>\n",
              "      <td>B5</td>\n",
              "      <td>S</td>\n",
              "      <td>2</td>\n",
              "      <td>NaN</td>\n",
              "      <td>St Louis, MO</td>\n",
              "      <td>1</td>\n",
              "      <td>0</td>\n",
              "    </tr>\n",
              "    <tr>\n",
              "      <th>1</th>\n",
              "      <td>1</td>\n",
              "      <td>1</td>\n",
              "      <td>Allison, Master. Hudson Trevor</td>\n",
              "      <td>male</td>\n",
              "      <td>0.92</td>\n",
              "      <td>1</td>\n",
              "      <td>2</td>\n",
              "      <td>113781</td>\n",
              "      <td>151.5500</td>\n",
              "      <td>C22 C26</td>\n",
              "      <td>S</td>\n",
              "      <td>11</td>\n",
              "      <td>NaN</td>\n",
              "      <td>Montreal, PQ / Chesterville, ON</td>\n",
              "      <td>0</td>\n",
              "      <td>1</td>\n",
              "    </tr>\n",
              "    <tr>\n",
              "      <th>2</th>\n",
              "      <td>1</td>\n",
              "      <td>0</td>\n",
              "      <td>Allison, Miss. Helen Loraine</td>\n",
              "      <td>female</td>\n",
              "      <td>2.00</td>\n",
              "      <td>1</td>\n",
              "      <td>2</td>\n",
              "      <td>113781</td>\n",
              "      <td>151.5500</td>\n",
              "      <td>C22 C26</td>\n",
              "      <td>S</td>\n",
              "      <td>NaN</td>\n",
              "      <td>NaN</td>\n",
              "      <td>Montreal, PQ / Chesterville, ON</td>\n",
              "      <td>1</td>\n",
              "      <td>0</td>\n",
              "    </tr>\n",
              "    <tr>\n",
              "      <th>3</th>\n",
              "      <td>1</td>\n",
              "      <td>0</td>\n",
              "      <td>Allison, Mr. Hudson Joshua Creighton</td>\n",
              "      <td>male</td>\n",
              "      <td>30.00</td>\n",
              "      <td>1</td>\n",
              "      <td>2</td>\n",
              "      <td>113781</td>\n",
              "      <td>151.5500</td>\n",
              "      <td>C22 C26</td>\n",
              "      <td>S</td>\n",
              "      <td>NaN</td>\n",
              "      <td>135.0</td>\n",
              "      <td>Montreal, PQ / Chesterville, ON</td>\n",
              "      <td>0</td>\n",
              "      <td>1</td>\n",
              "    </tr>\n",
              "    <tr>\n",
              "      <th>4</th>\n",
              "      <td>1</td>\n",
              "      <td>0</td>\n",
              "      <td>Allison, Mrs. Hudson J C (Bessie Waldo Daniels)</td>\n",
              "      <td>female</td>\n",
              "      <td>25.00</td>\n",
              "      <td>1</td>\n",
              "      <td>2</td>\n",
              "      <td>113781</td>\n",
              "      <td>151.5500</td>\n",
              "      <td>C22 C26</td>\n",
              "      <td>S</td>\n",
              "      <td>NaN</td>\n",
              "      <td>NaN</td>\n",
              "      <td>Montreal, PQ / Chesterville, ON</td>\n",
              "      <td>1</td>\n",
              "      <td>0</td>\n",
              "    </tr>\n",
              "    <tr>\n",
              "      <th>...</th>\n",
              "      <td>...</td>\n",
              "      <td>...</td>\n",
              "      <td>...</td>\n",
              "      <td>...</td>\n",
              "      <td>...</td>\n",
              "      <td>...</td>\n",
              "      <td>...</td>\n",
              "      <td>...</td>\n",
              "      <td>...</td>\n",
              "      <td>...</td>\n",
              "      <td>...</td>\n",
              "      <td>...</td>\n",
              "      <td>...</td>\n",
              "      <td>...</td>\n",
              "      <td>...</td>\n",
              "      <td>...</td>\n",
              "    </tr>\n",
              "    <tr>\n",
              "      <th>1304</th>\n",
              "      <td>3</td>\n",
              "      <td>0</td>\n",
              "      <td>Zabour, Miss. Hileni</td>\n",
              "      <td>female</td>\n",
              "      <td>14.50</td>\n",
              "      <td>1</td>\n",
              "      <td>0</td>\n",
              "      <td>2665</td>\n",
              "      <td>14.4542</td>\n",
              "      <td>NaN</td>\n",
              "      <td>C</td>\n",
              "      <td>NaN</td>\n",
              "      <td>328.0</td>\n",
              "      <td>NaN</td>\n",
              "      <td>1</td>\n",
              "      <td>0</td>\n",
              "    </tr>\n",
              "    <tr>\n",
              "      <th>1305</th>\n",
              "      <td>3</td>\n",
              "      <td>0</td>\n",
              "      <td>Zabour, Miss. Thamine</td>\n",
              "      <td>female</td>\n",
              "      <td>NaN</td>\n",
              "      <td>1</td>\n",
              "      <td>0</td>\n",
              "      <td>2665</td>\n",
              "      <td>14.4542</td>\n",
              "      <td>NaN</td>\n",
              "      <td>C</td>\n",
              "      <td>NaN</td>\n",
              "      <td>NaN</td>\n",
              "      <td>NaN</td>\n",
              "      <td>1</td>\n",
              "      <td>0</td>\n",
              "    </tr>\n",
              "    <tr>\n",
              "      <th>1306</th>\n",
              "      <td>3</td>\n",
              "      <td>0</td>\n",
              "      <td>Zakarian, Mr. Mapriededer</td>\n",
              "      <td>male</td>\n",
              "      <td>26.50</td>\n",
              "      <td>0</td>\n",
              "      <td>0</td>\n",
              "      <td>2656</td>\n",
              "      <td>7.2250</td>\n",
              "      <td>NaN</td>\n",
              "      <td>C</td>\n",
              "      <td>NaN</td>\n",
              "      <td>304.0</td>\n",
              "      <td>NaN</td>\n",
              "      <td>0</td>\n",
              "      <td>1</td>\n",
              "    </tr>\n",
              "    <tr>\n",
              "      <th>1307</th>\n",
              "      <td>3</td>\n",
              "      <td>0</td>\n",
              "      <td>Zakarian, Mr. Ortin</td>\n",
              "      <td>male</td>\n",
              "      <td>27.00</td>\n",
              "      <td>0</td>\n",
              "      <td>0</td>\n",
              "      <td>2670</td>\n",
              "      <td>7.2250</td>\n",
              "      <td>NaN</td>\n",
              "      <td>C</td>\n",
              "      <td>NaN</td>\n",
              "      <td>NaN</td>\n",
              "      <td>NaN</td>\n",
              "      <td>0</td>\n",
              "      <td>1</td>\n",
              "    </tr>\n",
              "    <tr>\n",
              "      <th>1308</th>\n",
              "      <td>3</td>\n",
              "      <td>0</td>\n",
              "      <td>Zimmerman, Mr. Leo</td>\n",
              "      <td>male</td>\n",
              "      <td>29.00</td>\n",
              "      <td>0</td>\n",
              "      <td>0</td>\n",
              "      <td>315082</td>\n",
              "      <td>7.8750</td>\n",
              "      <td>NaN</td>\n",
              "      <td>S</td>\n",
              "      <td>NaN</td>\n",
              "      <td>NaN</td>\n",
              "      <td>NaN</td>\n",
              "      <td>0</td>\n",
              "      <td>1</td>\n",
              "    </tr>\n",
              "  </tbody>\n",
              "</table>\n",
              "<p>1309 rows × 16 columns</p>\n",
              "</div>"
            ],
            "text/plain": [
              "      pclass  survived  ... female male\n",
              "0          1         1  ...      1    0\n",
              "1          1         1  ...      0    1\n",
              "2          1         0  ...      1    0\n",
              "3          1         0  ...      0    1\n",
              "4          1         0  ...      1    0\n",
              "...      ...       ...  ...    ...  ...\n",
              "1304       3         0  ...      1    0\n",
              "1305       3         0  ...      1    0\n",
              "1306       3         0  ...      0    1\n",
              "1307       3         0  ...      0    1\n",
              "1308       3         0  ...      0    1\n",
              "\n",
              "[1309 rows x 16 columns]"
            ]
          },
          "metadata": {
            "tags": []
          },
          "execution_count": 30
        }
      ]
    },
    {
      "cell_type": "markdown",
      "metadata": {
        "id": "Z9bxOfzDbY-n",
        "colab_type": "text"
      },
      "source": [
        "\n",
        "\n",
        "---\n",
        "\n",
        "\n",
        "**2. Fill the missing data in Age and Fare columns with the mean value of the respected column then add these columns to titanic_data_new**\n",
        "\n",
        "\n",
        "---\n",
        "\n"
      ]
    },
    {
      "cell_type": "code",
      "metadata": {
        "id": "DNx7Pr0ehhAs",
        "colab_type": "code",
        "colab": {}
      },
      "source": [
        ""
      ],
      "execution_count": 0,
      "outputs": []
    },
    {
      "cell_type": "markdown",
      "metadata": {
        "id": "SlRzKfhxkd1M",
        "colab_type": "text"
      },
      "source": [
        "###Normalization\n",
        "\n",
        "\n",
        "---\n",
        "\n",
        "\n",
        "\n",
        "1. Normalize the columns which have numerical data\n",
        "\n",
        "\n",
        "\n",
        "---\n",
        "\n"
      ]
    },
    {
      "cell_type": "code",
      "metadata": {
        "id": "Y3hpu92TlM38",
        "colab_type": "code",
        "colab": {}
      },
      "source": [
        ""
      ],
      "execution_count": 0,
      "outputs": []
    },
    {
      "cell_type": "markdown",
      "metadata": {
        "id": "wB9-5x83mFAO",
        "colab_type": "text"
      },
      "source": [
        "\n",
        "\n",
        "---\n",
        "2. Drop the original age, fare columns\n",
        "3. Append the normalized columns to the titanic_data_new DataFrame.\n",
        "\n",
        "\n",
        "\n",
        "---\n",
        "\n"
      ]
    },
    {
      "cell_type": "code",
      "metadata": {
        "id": "Kb00kM0onQJy",
        "colab_type": "code",
        "colab": {}
      },
      "source": [
        ""
      ],
      "execution_count": 0,
      "outputs": []
    },
    {
      "cell_type": "markdown",
      "metadata": {
        "id": "uLxN3PozntKe",
        "colab_type": "text"
      },
      "source": [
        "###Plotting\n",
        "1. plot the age against the ID(continuous)\n",
        "2. plot the fare against the ID(scatter)"
      ]
    },
    {
      "cell_type": "code",
      "metadata": {
        "id": "LdSfNEKYn_RO",
        "colab_type": "code",
        "colab": {}
      },
      "source": [
        ""
      ],
      "execution_count": 0,
      "outputs": []
    },
    {
      "cell_type": "markdown",
      "metadata": {
        "id": "LQr7y6eevTvy",
        "colab_type": "text"
      },
      "source": [
        "## End of Part - 2\n",
        "---"
      ]
    },
    {
      "cell_type": "markdown",
      "metadata": {
        "id": "TWhZcKvfvW2B",
        "colab_type": "text"
      },
      "source": [
        "## Part - 3\n",
        "---"
      ]
    },
    {
      "cell_type": "markdown",
      "metadata": {
        "id": "8bY4H9DszQ2S",
        "colab_type": "text"
      },
      "source": [
        "In this part, you will work with the library ```matplotlib```. Import the ```pyplot``` from ```matplotlib``` with an alias name ```plt```."
      ]
    },
    {
      "cell_type": "code",
      "metadata": {
        "id": "hPN6qctRzknT",
        "colab_type": "code",
        "colab": {}
      },
      "source": [
        "import matplotlib.pyplot as plt"
      ],
      "execution_count": 0,
      "outputs": []
    },
    {
      "cell_type": "markdown",
      "metadata": {
        "id": "fQ6KX_Aezlub",
        "colab_type": "text"
      },
      "source": [
        "Plot the sine function with domain in $[-3\\pi,3\\pi]$. Label the axes appropriately. Add title $\\sin(x)$. Use latex formatting while adding the title. Set the plot size to (10,10)"
      ]
    },
    {
      "cell_type": "code",
      "metadata": {
        "id": "0tA3J5mA1cQ0",
        "colab_type": "code",
        "colab": {
          "base_uri": "https://localhost:8080/",
          "height": 265
        },
        "outputId": "4d265096-8ea5-41d0-dda8-e42fb4a0c96e"
      },
      "source": [
        "x=np.arange(-3*np.pi,3*np.pi,0.1)\n",
        "y=np.sin(x)\n",
        "plt.plot(x,y)\n",
        "plt.show()"
      ],
      "execution_count": 35,
      "outputs": [
        {
          "output_type": "display_data",
          "data": {
            "image/png": "[encoded data removed]",
            "text/plain": [
              "<Figure size 432x288 with 1 Axes>"
            ]
          },
          "metadata": {
            "tags": [],
            "needs_background": "light"
          }
        }
      ]
    },
    {
      "cell_type": "markdown",
      "metadata": {
        "id": "6KV7RqMm1d8P",
        "colab_type": "text"
      },
      "source": [
        "Plot $\\sin(x)$ and its spectrum, $\\cos(x)$ and its spectrum in a single plot, in the domain $[-2\\pi,2\\pi]$. Label the plot appropriately."
      ]
    },
    {
      "cell_type": "code",
      "metadata": {
        "id": "-OJuY0HO12Oo",
        "colab_type": "code",
        "colab": {}
      },
      "source": [
        ""
      ],
      "execution_count": 0,
      "outputs": []
    },
    {
      "cell_type": "markdown",
      "metadata": {
        "id": "1S6ZRm6B18ZF",
        "colab_type": "text"
      },
      "source": [
        "## End of Part - 3\n",
        "---"
      ]
    },
    {
      "cell_type": "markdown",
      "metadata": {
        "id": "MUucpzXBl096",
        "colab_type": "text"
      },
      "source": [
        "Create a Github repository with the name ***SHALA2020*** and save this assignment there."
      ]
    }
  ]
}