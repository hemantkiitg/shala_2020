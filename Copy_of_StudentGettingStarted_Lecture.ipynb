{
  "nbformat": 4,
  "nbformat_minor": 0,
  "metadata": {
    "colab": {
      "name": "Copy of StudentGettingStarted_Lecture.ipynb",
      "provenance": [],
      "collapsed_sections": [],
      "include_colab_link": true
    },
    "kernelspec": {
      "name": "python3",
      "display_name": "Python 3"
    }
  },
  "cells": [
    {
      "cell_type": "markdown",
      "metadata": {
        "id": "view-in-github",
        "colab_type": "text"
      },
      "source": [
        "<a href=\"https://colab.research.google.com/github/hemantkiitg/shala_2020/blob/master/Copy_of_StudentGettingStarted_Lecture.ipynb\" target=\"_parent\"><img src=\"https://colab.research.google.com/assets/colab-badge.svg\" alt=\"Open In Colab\"/></a>"
      ]
    },
    {
      "cell_type": "markdown",
      "metadata": {
        "id": "mvuy-9WFOQH7",
        "colab_type": "text"
      },
      "source": [
        "#**Getting Started**\n",
        "\n",
        "\n"
      ]
    },
    {
      "cell_type": "markdown",
      "metadata": {
        "id": "sDVspJIUHyDa",
        "colab_type": "text"
      },
      "source": [
        "\n",
        "\n",
        "---\n",
        "\n",
        "#Part1: numpy\n",
        "\n",
        "---\n",
        "\n"
      ]
    },
    {
      "cell_type": "markdown",
      "metadata": {
        "id": "DX53_7TimE-m",
        "colab_type": "text"
      },
      "source": [
        "\n",
        "\n",
        "---\n",
        "\n",
        "\n",
        "**1. Importing the module**\n",
        "\n",
        "\n",
        "---\n",
        "\n"
      ]
    },
    {
      "cell_type": "code",
      "metadata": {
        "id": "KFr9wMqhl_YT",
        "colab_type": "code",
        "colab": {}
      },
      "source": [
        "import numpy as np"
      ],
      "execution_count": 0,
      "outputs": []
    },
    {
      "cell_type": "markdown",
      "metadata": {
        "id": "vOnPMb07nlix",
        "colab_type": "text"
      },
      "source": [
        "\n",
        "\n",
        "---\n",
        "**2. Creating an array**\n",
        "*\n",
        "\n",
        "\n",
        "---\n",
        "\n",
        "\n"
      ]
    },
    {
      "cell_type": "code",
      "metadata": {
        "id": "wW1519TpnxWp",
        "colab_type": "code",
        "colab": {}
      },
      "source": [
        "# a = np.array([[1,2,3],[4,5,6]])\n",
        "# print(a)\n",
        "# print(type(a))"
      ],
      "execution_count": 0,
      "outputs": []
    },
    {
      "cell_type": "code",
      "metadata": {
        "id": "9f_-t_QSoPyy",
        "colab_type": "code",
        "colab": {}
      },
      "source": [
        "# b = np.array( [ [1,2], [3,4] ], dtype=complex )\n",
        "# print(b)"
      ],
      "execution_count": 0,
      "outputs": []
    },
    {
      "cell_type": "code",
      "metadata": {
        "id": "Pl5tQpAFIa93",
        "colab_type": "code",
        "colab": {}
      },
      "source": [
        "# create an array which contains zeros\n",
        "# c = np.zeros((2,3))\n",
        "# print('c = {}'.format(c))\n"
      ],
      "execution_count": 0,
      "outputs": []
    },
    {
      "cell_type": "code",
      "metadata": {
        "id": "IuBYcT_2I0x_",
        "colab_type": "code",
        "colab": {}
      },
      "source": [
        "# create an array of ones\n",
        "# d = np.ones((2,3,4), dtype=np.int16 )\n",
        "# print('d = {}'.format(d))"
      ],
      "execution_count": 0,
      "outputs": []
    },
    {
      "cell_type": "code",
      "metadata": {
        "id": "qqchcMKJJC9q",
        "colab_type": "code",
        "colab": {}
      },
      "source": [
        "# create an empty array\n",
        "# e = np.empty((3,3))\n",
        "# print('e = {}'.format(e))"
      ],
      "execution_count": 0,
      "outputs": []
    },
    {
      "cell_type": "code",
      "metadata": {
        "id": "rX9_QmN3JM7V",
        "colab_type": "code",
        "colab": {}
      },
      "source": [
        "# create an identity array\n",
        "# f = np.eye(3)\n",
        "# print('f = {}'.format(f))"
      ],
      "execution_count": 0,
      "outputs": []
    },
    {
      "cell_type": "code",
      "metadata": {
        "id": "ujLCPiIsJYPb",
        "colab_type": "code",
        "colab": {}
      },
      "source": [
        "# create an array of ones with the same size of array c\n",
        "# g = np.ones_like(c)\n",
        "# print('g = {}'.format(g))"
      ],
      "execution_count": 0,
      "outputs": []
    },
    {
      "cell_type": "code",
      "metadata": {
        "id": "casvUbE6Jpyw",
        "colab_type": "code",
        "colab": {}
      },
      "source": [
        "# create an array filled with inf values\n",
        "# h = np.full((3, 2), np.inf)\n",
        "# print('h = {}'.format(h))"
      ],
      "execution_count": 0,
      "outputs": []
    },
    {
      "cell_type": "code",
      "metadata": {
        "id": "PRMjbvwgKIlE",
        "colab_type": "code",
        "colab": {}
      },
      "source": [
        "# create a 3*3 array\n",
        "# i = np.array([[0,1,2],[3,4,5],[6,7,8]])\n",
        "# print('i = {}'.format(i))"
      ],
      "execution_count": 0,
      "outputs": []
    },
    {
      "cell_type": "code",
      "metadata": {
        "id": "-yY0p5goKYWk",
        "colab_type": "code",
        "colab": {}
      },
      "source": [
        "# find the diagonal of the previous array\n",
        "# j = np.diag(i)\n",
        "# print('j = {}'.format(j))"
      ],
      "execution_count": 0,
      "outputs": []
    },
    {
      "cell_type": "code",
      "metadata": {
        "id": "9kJKgZPhLyB6",
        "colab_type": "code",
        "colab": {}
      },
      "source": [
        "# find the diagonals above and below the main diagonal\n",
        "# j = np.diag(i,k = 1)\n",
        "# print('j = {}'.format(j))\n",
        "# print(\"-\"*20)\n",
        "# j = np.diag(i,k = -1)\n",
        "# print('j = {}'.format(j))\n"
      ],
      "execution_count": 0,
      "outputs": []
    },
    {
      "cell_type": "markdown",
      "metadata": {
        "id": "tqlb8eirpeqL",
        "colab_type": "text"
      },
      "source": [
        "\n",
        "\n",
        "---\n",
        "**3. Create a sequence of numbers**\n",
        "\n",
        "\n",
        "---\n",
        "\n",
        "\n"
      ]
    },
    {
      "cell_type": "code",
      "metadata": {
        "id": "jYD_TuLmM3mt",
        "colab_type": "code",
        "colab": {}
      },
      "source": [
        "# create a sequence of three numbers between 1 and 7\n",
        "# f = np.arange(1,7,2)\n",
        "# print(\"f = {}\".format(f)) "
      ],
      "execution_count": 0,
      "outputs": []
    },
    {
      "cell_type": "code",
      "metadata": {
        "id": "WmfPNrUVNQA_",
        "colab_type": "code",
        "colab": {}
      },
      "source": [
        "# create a sequence of numbers between 1 and 7 with stride 0.5\n",
        "# g = np.arange(1,7,0.5)\n",
        "# print(\"g = {}\".format(g))"
      ],
      "execution_count": 0,
      "outputs": []
    },
    {
      "cell_type": "code",
      "metadata": {
        "id": "v1g2OqafNfQD",
        "colab_type": "code",
        "outputId": "284a00a9-2fea-46db-9c43-babc8549b741",
        "colab": {
          "base_uri": "https://localhost:8080/",
          "height": 50
        }
      },
      "source": [
        "# create 10 numbers between 1 and 7\n",
        "h = np.linspace(1,7,10)\n",
        "print(\"h = {}\".format(h)) "
      ],
      "execution_count": 0,
      "outputs": [
        {
          "output_type": "stream",
          "text": [
            "h = [1.         1.66666667 2.33333333 3.         3.66666667 4.33333333\n",
            " 5.         5.66666667 6.33333333 7.        ]\n"
          ],
          "name": "stdout"
        }
      ]
    },
    {
      "cell_type": "markdown",
      "metadata": {
        "id": "k85McTPHqrkI",
        "colab_type": "text"
      },
      "source": [
        "\n",
        "\n",
        "---\n",
        "**Reshape an array**\n",
        "\n",
        "---\n",
        "\n",
        "\n"
      ]
    },
    {
      "cell_type": "code",
      "metadata": {
        "id": "Nos0iO_dNw7g",
        "colab_type": "code",
        "outputId": "7e62bfcc-2f3e-4dfc-86d3-ce882ec79d04",
        "colab": {
          "base_uri": "https://localhost:8080/",
          "height": 134
        }
      },
      "source": [
        "# create a vector of 10 elements and reshape it into 5*2 array\n",
        "a = np.arange(10)\n",
        "print(\"a = {}\".format(a))\n",
        "print(\"-\"*20)\n",
        "b = a.reshape(5,2)\n",
        "print(\"b = {}\".format(b))"
      ],
      "execution_count": 0,
      "outputs": [
        {
          "output_type": "stream",
          "text": [
            "a = [0 1 2 3 4 5 6 7 8 9]\n",
            "--------------------\n",
            "b = [[0 1]\n",
            " [2 3]\n",
            " [4 5]\n",
            " [6 7]\n",
            " [8 9]]\n"
          ],
          "name": "stdout"
        }
      ]
    },
    {
      "cell_type": "code",
      "metadata": {
        "id": "s8vgbHycN_0K",
        "colab_type": "code",
        "outputId": "d9797ef2-995c-4078-a7cd-95c33e970ed9",
        "colab": {
          "base_uri": "https://localhost:8080/",
          "height": 50
        }
      },
      "source": [
        "# flatten the previous array \n",
        "# c = b.flatten()\n",
        "# print(\"c = {}\".format(c))\n",
        "# c.shape"
      ],
      "execution_count": 0,
      "outputs": [
        {
          "output_type": "stream",
          "text": [
            "c = [0 1 2 3 4 5 6 7 8 9]\n"
          ],
          "name": "stdout"
        },
        {
          "output_type": "execute_result",
          "data": {
            "text/plain": [
              "(10,)"
            ]
          },
          "metadata": {
            "tags": []
          },
          "execution_count": 6
        }
      ]
    },
    {
      "cell_type": "code",
      "metadata": {
        "id": "mr-ir7m-OQuC",
        "colab_type": "code",
        "colab": {}
      },
      "source": [
        "# create a 2*3 array then find its transpose\n",
        "# d= np.array([[1,2,3],[4,5,6]])\n",
        "# print(\"d = {}\".format(d))\n",
        "# print(\"-\"*20)\n",
        "# e= d.transpose()\n",
        "# print(\"e = {}\".format(e))"
      ],
      "execution_count": 0,
      "outputs": []
    },
    {
      "cell_type": "code",
      "metadata": {
        "id": "eJfYButZO6uF",
        "colab_type": "code",
        "outputId": "ded79ebe-f758-42b2-fc88-580124bd7294",
        "colab": {
          "base_uri": "https://localhost:8080/",
          "height": 67
        }
      },
      "source": [
        "# create a random 3*2 array \n",
        "# a = np.random.random_sample((3, 2)) *5\n",
        "# print(\"a = {}\".format(a))"
      ],
      "execution_count": 0,
      "outputs": [
        {
          "output_type": "stream",
          "text": [
            "a = [[4.64385992 1.56888506]\n",
            " [3.92351934 1.22231823]\n",
            " [0.79559313 2.58530521]]\n"
          ],
          "name": "stdout"
        }
      ]
    },
    {
      "cell_type": "code",
      "metadata": {
        "id": "NvDVq6cLPB5x",
        "colab_type": "code",
        "colab": {}
      },
      "source": [
        "# find the minimum of the previous array (a) and its index\n",
        "# print(\"min(a) = {}\".format(np.min(a)))\n",
        "# print(\"argmin(a) = {}\".format(np.argmin(a)))"
      ],
      "execution_count": 0,
      "outputs": []
    },
    {
      "cell_type": "code",
      "metadata": {
        "id": "CWQXTCXxPLm-",
        "colab_type": "code",
        "colab": {}
      },
      "source": [
        "# find the maximum of a and its index\n",
        "# print(\"max(a) = {}\".format(np.max(a)))\n",
        "# print(\"argmax(a) = {}\".format(np.argmax(a)))"
      ],
      "execution_count": 0,
      "outputs": []
    },
    {
      "cell_type": "code",
      "metadata": {
        "id": "nUOFzJ0GPbWl",
        "colab_type": "code",
        "colab": {}
      },
      "source": [
        "# find the maximums and minimums of rows 1,2\n",
        "# np.maximum(x1,x2) is same as np.where(x1 >= x2, x1, x2) \n",
        "# print(\"maximum of row1, row2 = {}\".format(np.maximum(a[1],a[2])))\n",
        "# print(\"minimum of row1, row2 = {}\".format(np.minimum(a[1],a[2])))"
      ],
      "execution_count": 0,
      "outputs": []
    },
    {
      "cell_type": "markdown",
      "metadata": {
        "id": "V3dyqzf3yu5m",
        "colab_type": "text"
      },
      "source": [
        "\n",
        "\n",
        "---\n",
        "\n",
        "**Statistical measures**\n",
        "\n",
        "---\n",
        "\n"
      ]
    },
    {
      "cell_type": "code",
      "metadata": {
        "id": "-gx_IRu1y4xS",
        "colab_type": "code",
        "colab": {}
      },
      "source": [
        "# generate a random 3*2 array and compute its mean, variance, and standard deviation\n",
        "# a = np.random.random_sample((3, 2)) *5\n",
        "# print(\"a = {}\".format(a))\n",
        "# print(\"-\"*20)\n",
        "# print(\"mean(a) = {}\".format(np.mean(a)))\n",
        "# print(\"var(a) = {}\".format(np.var(a)))\n",
        "# print(\"std(a) = {}\".format(np.std(a)))\n"
      ],
      "execution_count": 0,
      "outputs": []
    },
    {
      "cell_type": "markdown",
      "metadata": {
        "id": "l0CwosoVzSOF",
        "colab_type": "text"
      },
      "source": [
        "\n",
        "\n",
        "---\n",
        "\n",
        "**Linear Algebra**\n",
        "\n",
        "---\n",
        "\n"
      ]
    },
    {
      "cell_type": "code",
      "metadata": {
        "id": "lShMEDNHQJE5",
        "colab_type": "code",
        "colab": {}
      },
      "source": [
        "# create a square, random matrix a \n",
        "# a = np.random.random_sample((3, 3))\n",
        "# b = np.exp(a)\n",
        "# print(\"b = exp(a){}\".format(b))"
      ],
      "execution_count": 0,
      "outputs": []
    },
    {
      "cell_type": "code",
      "metadata": {
        "id": "holrmn_2QZ-1",
        "colab_type": "code",
        "colab": {}
      },
      "source": [
        "# compute the determinant, rank, and trace of b\n",
        "# det = np.linalg.det(b)\n",
        "# print(\"determinant(b)= {}\".format(det))\n",
        "# rank = np.linalg.matrix_rank(b)\n",
        "# print(\"rank(b)= {}\".format(rank))\n",
        "# trace = np.trace(b)\n",
        "# print(\"trace(b)= {}\".format(trace))"
      ],
      "execution_count": 0,
      "outputs": []
    },
    {
      "cell_type": "code",
      "metadata": {
        "id": "pxBuskI7QnNr",
        "colab_type": "code",
        "colab": {}
      },
      "source": [
        "#find the eigen values and the eigen vectors of matrix b\n",
        "# eigen_val,eigen_vec = np.linalg.eig(b)\n",
        "# print(\"the eigen values of b:\\n{}\".format(eigen_val))\n",
        "# print(\"the the right eigen vectors of b:\\n{}\".format(eigen_vec))"
      ],
      "execution_count": 0,
      "outputs": []
    },
    {
      "cell_type": "code",
      "metadata": {
        "id": "XTszhe1oQ22N",
        "colab_type": "code",
        "colab": {}
      },
      "source": [
        "# implement singular value decomposition on matrix b\n",
        "# u,s,vh = np.linalg.svd(b)\n",
        "# print(\"U of b is :\\n{}\".format(u))\n",
        "# print(\"V of b is :\\n{}\".format(vh))\n",
        "# print(\"singular values of b are :\\n{}\".format(s))"
      ],
      "execution_count": 0,
      "outputs": []
    },
    {
      "cell_type": "code",
      "metadata": {
        "id": "9WQrbjtW8TYs",
        "colab_type": "code",
        "colab": {}
      },
      "source": [
        "# generate two arrays and compute their dot product\n",
        "# a = np.array([[1,2],[3,4]]) \n",
        "# b = np.array([[11,12],[13,14]]) \n",
        "# c = np.dot(a,b)\n",
        "# print(\"the dot product of a and b is:\\n{}\".format(c))\n",
        "# d = np.matmul(a,b)\n",
        "# print(\"the dot product of a and b is:\\n{}\".format(d))\n",
        "# print(\"the dot product of a and b is:\\n{}\".format(a*b))"
      ],
      "execution_count": 0,
      "outputs": []
    },
    {
      "cell_type": "code",
      "metadata": {
        "id": "osuR01ra9Ugr",
        "colab_type": "code",
        "colab": {}
      },
      "source": [
        "# Generate an array and compute its inverse and its pseudo inverse\n",
        "# a = np.random.random_sample((3,3))\n",
        "# print(a)\n",
        "# # Compute the (multiplicative) inverse of a matrix.\n",
        "# print(\"the inverse of a is:\")\n",
        "# b = np.linalg.inv(a)\n",
        "# print(b)\n",
        "# #compute the (Moore-Penrose) pseudo-inverse of a\n",
        "# print(\"the pseudo-inverse of a is:\")\n",
        "# c = np.linalg.pinv(a)\n",
        "# print(c)\n",
        "\n",
        "# import random\n",
        "# np.random.seed(3)\n",
        "# d = random.randint(1, 10)  \n",
        "# print(d)\n",
        "# print(d)\n",
        "# np.random.seed(1099)\n",
        "# d = random.randint(1, 10) \n",
        "# print(d)\n",
        "# print(d)\n",
        "\n"
      ],
      "execution_count": 0,
      "outputs": []
    },
    {
      "cell_type": "markdown",
      "metadata": {
        "id": "JJpB7meAHLuh",
        "colab_type": "text"
      },
      "source": [
        "\n",
        "\n",
        "---\n",
        "\n",
        "\n",
        "#Part2: pandas\n",
        "\n",
        "\n",
        "---\n",
        "\n"
      ]
    },
    {
      "cell_type": "markdown",
      "metadata": {
        "id": "wpRPrGXMHbDD",
        "colab_type": "text"
      },
      "source": [
        "\n",
        "\n",
        "---\n",
        "\n",
        "**1. Load the pandas package**\n",
        "\n",
        "---\n",
        "\n"
      ]
    },
    {
      "cell_type": "code",
      "metadata": {
        "id": "Ks1tRu6gOJEG",
        "colab_type": "code",
        "colab": {}
      },
      "source": [
        "import pandas as pd"
      ],
      "execution_count": 0,
      "outputs": []
    },
    {
      "cell_type": "markdown",
      "metadata": {
        "id": "wQU5uckuPbu5",
        "colab_type": "text"
      },
      "source": [
        "\n",
        "\n",
        "---\n",
        "\n",
        "\n",
        "\n",
        "**2.   I want to store customers data. For a number of customers I know, the name(characters), age(integers), and sex(male/female) data.**\n",
        "\n",
        "\n",
        "---\n",
        "\n",
        "\n",
        "\n"
      ]
    },
    {
      "cell_type": "code",
      "metadata": {
        "id": "H-hKlfKTPaoh",
        "colab_type": "code",
        "colab": {
          "base_uri": "https://localhost:8080/",
          "height": 141
        },
        "outputId": "d8639101-9125-425d-8625-336cdf9fbdb5"
      },
      "source": [
        "df = pd.DataFrame({\n",
        "    \"Name\": [\"Sahar\",\n",
        "             \"Nisha\",\n",
        "             \"Lokesh\"],\n",
        "    \"Age\":[28, 30, 25],\n",
        "    \"Sex\":[\"female\",\"female\",\"male\"]\n",
        "})\n",
        "\n",
        "df"
      ],
      "execution_count": 3,
      "outputs": [
        {
          "output_type": "execute_result",
          "data": {
            "text/html": [
              "<div>\n",
              "<style scoped>\n",
              "    .dataframe tbody tr th:only-of-type {\n",
              "        vertical-align: middle;\n",
              "    }\n",
              "\n",
              "    .dataframe tbody tr th {\n",
              "        vertical-align: top;\n",
              "    }\n",
              "\n",
              "    .dataframe thead th {\n",
              "        text-align: right;\n",
              "    }\n",
              "</style>\n",
              "<table border=\"1\" class=\"dataframe\">\n",
              "  <thead>\n",
              "    <tr style=\"text-align: right;\">\n",
              "      <th></th>\n",
              "      <th>Name</th>\n",
              "      <th>Age</th>\n",
              "      <th>Sex</th>\n",
              "    </tr>\n",
              "  </thead>\n",
              "  <tbody>\n",
              "    <tr>\n",
              "      <th>0</th>\n",
              "      <td>Sahar</td>\n",
              "      <td>28</td>\n",
              "      <td>female</td>\n",
              "    </tr>\n",
              "    <tr>\n",
              "      <th>1</th>\n",
              "      <td>Nisha</td>\n",
              "      <td>30</td>\n",
              "      <td>female</td>\n",
              "    </tr>\n",
              "    <tr>\n",
              "      <th>2</th>\n",
              "      <td>Lokesh</td>\n",
              "      <td>25</td>\n",
              "      <td>male</td>\n",
              "    </tr>\n",
              "  </tbody>\n",
              "</table>\n",
              "</div>"
            ],
            "text/plain": [
              "     Name  Age     Sex\n",
              "0   Sahar   28  female\n",
              "1   Nisha   30  female\n",
              "2  Lokesh   25    male"
            ]
          },
          "metadata": {
            "tags": []
          },
          "execution_count": 3
        }
      ]
    },
    {
      "cell_type": "markdown",
      "metadata": {
        "id": "Luyr6P8aRSjf",
        "colab_type": "text"
      },
      "source": [
        "\n",
        "\n",
        "---\n",
        "\n",
        "\n",
        "**Note that:** A DataFrame is a 2-dimensional data structure that can store data of different types (including characters, integers,floating point values, categorical data and more) in columns.\n",
        "\n",
        "\n",
        "---\n",
        "\n"
      ]
    },
    {
      "cell_type": "markdown",
      "metadata": {
        "id": "fCP9-8vHSWZX",
        "colab_type": "text"
      },
      "source": [
        "\n",
        "\n",
        "---\n",
        "\n",
        "\n",
        "**3.   To access the data of one column:**\n",
        "\n",
        "\n",
        "---\n",
        "\n",
        "\n",
        "\n"
      ]
    },
    {
      "cell_type": "code",
      "metadata": {
        "id": "OUOrO7iiR5vu",
        "colab_type": "code",
        "colab": {
          "base_uri": "https://localhost:8080/",
          "height": 87
        },
        "outputId": "7f5ac115-9ad5-4d52-fb47-f745486d858a"
      },
      "source": [
        "df[\"Age\"]"
      ],
      "execution_count": 4,
      "outputs": [
        {
          "output_type": "execute_result",
          "data": {
            "text/plain": [
              "0    28\n",
              "1    30\n",
              "2    25\n",
              "Name: Age, dtype: int64"
            ]
          },
          "metadata": {
            "tags": []
          },
          "execution_count": 4
        }
      ]
    },
    {
      "cell_type": "markdown",
      "metadata": {
        "id": "TpCO66h4THTi",
        "colab_type": "text"
      },
      "source": [
        "\n",
        "\n",
        "---\n",
        "\n",
        "\n",
        "**4. To know the maximum age of the customers:**\n",
        "\n",
        "\n",
        "---\n",
        "\n"
      ]
    },
    {
      "cell_type": "code",
      "metadata": {
        "id": "Ekvd1c-tTdOu",
        "colab_type": "code",
        "colab": {
          "base_uri": "https://localhost:8080/",
          "height": 35
        },
        "outputId": "896e39d2-e7d7-417f-ab2e-f4d75f9ec3c0"
      },
      "source": [
        "df[\"Age\"].max()"
      ],
      "execution_count": 6,
      "outputs": [
        {
          "output_type": "execute_result",
          "data": {
            "text/plain": [
              "30"
            ]
          },
          "metadata": {
            "tags": []
          },
          "execution_count": 6
        }
      ]
    },
    {
      "cell_type": "markdown",
      "metadata": {
        "id": "FZ9ezcQlT48R",
        "colab_type": "text"
      },
      "source": [
        "\n",
        "\n",
        "---\n",
        "\n",
        "\n",
        "**5. If you are interested of some basic statistics of the numerical data of your table try describe() method, which provides a quick overview of the numerical data in a DataFrame**\n",
        "\n",
        "\n",
        "---\n",
        "\n"
      ]
    },
    {
      "cell_type": "code",
      "metadata": {
        "id": "JTYRufMvULPl",
        "colab_type": "code",
        "colab": {
          "base_uri": "https://localhost:8080/",
          "height": 294
        },
        "outputId": "6b31cd0d-9548-4db7-97f2-59d56d248eba"
      },
      "source": [
        "df.describe()"
      ],
      "execution_count": 7,
      "outputs": [
        {
          "output_type": "execute_result",
          "data": {
            "text/html": [
              "<div>\n",
              "<style scoped>\n",
              "    .dataframe tbody tr th:only-of-type {\n",
              "        vertical-align: middle;\n",
              "    }\n",
              "\n",
              "    .dataframe tbody tr th {\n",
              "        vertical-align: top;\n",
              "    }\n",
              "\n",
              "    .dataframe thead th {\n",
              "        text-align: right;\n",
              "    }\n",
              "</style>\n",
              "<table border=\"1\" class=\"dataframe\">\n",
              "  <thead>\n",
              "    <tr style=\"text-align: right;\">\n",
              "      <th></th>\n",
              "      <th>Age</th>\n",
              "    </tr>\n",
              "  </thead>\n",
              "  <tbody>\n",
              "    <tr>\n",
              "      <th>count</th>\n",
              "      <td>3.000000</td>\n",
              "    </tr>\n",
              "    <tr>\n",
              "      <th>mean</th>\n",
              "      <td>27.666667</td>\n",
              "    </tr>\n",
              "    <tr>\n",
              "      <th>std</th>\n",
              "      <td>2.516611</td>\n",
              "    </tr>\n",
              "    <tr>\n",
              "      <th>min</th>\n",
              "      <td>25.000000</td>\n",
              "    </tr>\n",
              "    <tr>\n",
              "      <th>25%</th>\n",
              "      <td>26.500000</td>\n",
              "    </tr>\n",
              "    <tr>\n",
              "      <th>50%</th>\n",
              "      <td>28.000000</td>\n",
              "    </tr>\n",
              "    <tr>\n",
              "      <th>75%</th>\n",
              "      <td>29.000000</td>\n",
              "    </tr>\n",
              "    <tr>\n",
              "      <th>max</th>\n",
              "      <td>30.000000</td>\n",
              "    </tr>\n",
              "  </tbody>\n",
              "</table>\n",
              "</div>"
            ],
            "text/plain": [
              "             Age\n",
              "count   3.000000\n",
              "mean   27.666667\n",
              "std     2.516611\n",
              "min    25.000000\n",
              "25%    26.500000\n",
              "50%    28.000000\n",
              "75%    29.000000\n",
              "max    30.000000"
            ]
          },
          "metadata": {
            "tags": []
          },
          "execution_count": 7
        }
      ]
    },
    {
      "cell_type": "markdown",
      "metadata": {
        "id": "EAQNutXLUjI2",
        "colab_type": "text"
      },
      "source": [
        "\n",
        "\n",
        "---\n",
        "\n",
        "\n",
        "**6. Dealing with CSV files**\n",
        "pandas provides the read_csv() function to read data stored as a csv file into a pandas DataFrame\n",
        "\n",
        "\n",
        "---\n",
        "\n"
      ]
    },
    {
      "cell_type": "code",
      "metadata": {
        "id": "IiEp4sZvYw4s",
        "colab_type": "code",
        "colab": {
          "base_uri": "https://localhost:8080/",
          "height": 72
        },
        "outputId": "2997129c-fec4-4527-ec91-58af9f6b9831"
      },
      "source": [
        "from google.colab import drive\n",
        "drive.mount('/content/drive/')\n",
        "%ls\n",
        "CustomerData = pd.read_csv(\"/content/drive/My Drive/CusomerData.csv\") "
      ],
      "execution_count": 29,
      "outputs": [
        {
          "output_type": "stream",
          "text": [
            "Drive already mounted at /content/drive/; to attempt to forcibly remount, call drive.mount(\"/content/drive/\", force_remount=True).\n",
            "CusomerData.csv  CustomerData.xlsx  \u001b[0m\u001b[01;34mdrive\u001b[0m/  \u001b[01;34msample_data\u001b[0m/\n"
          ],
          "name": "stdout"
        }
      ]
    },
    {
      "cell_type": "code",
      "metadata": {
        "id": "F1PK6KsVTR4l",
        "colab_type": "code",
        "colab": {}
      },
      "source": [
        ""
      ],
      "execution_count": 0,
      "outputs": []
    },
    {
      "cell_type": "code",
      "metadata": {
        "id": "ZT-F-153S2q-",
        "colab_type": "code",
        "colab": {}
      },
      "source": [
        ""
      ],
      "execution_count": 0,
      "outputs": []
    },
    {
      "cell_type": "code",
      "metadata": {
        "id": "8lZoLTd4SzOt",
        "colab_type": "code",
        "colab": {}
      },
      "source": [
        ""
      ],
      "execution_count": 0,
      "outputs": []
    },
    {
      "cell_type": "code",
      "metadata": {
        "id": "n4VDzuMcUhu2",
        "colab_type": "code",
        "colab": {
          "base_uri": "https://localhost:8080/",
          "height": 447
        },
        "outputId": "9fab08ff-f5bd-4fe7-d664-36bfb400750d"
      },
      "source": [
        "CustomerData"
      ],
      "execution_count": 25,
      "outputs": [
        {
          "output_type": "execute_result",
          "data": {
            "text/html": [
              "<div>\n",
              "<style scoped>\n",
              "    .dataframe tbody tr th:only-of-type {\n",
              "        vertical-align: middle;\n",
              "    }\n",
              "\n",
              "    .dataframe tbody tr th {\n",
              "        vertical-align: top;\n",
              "    }\n",
              "\n",
              "    .dataframe thead th {\n",
              "        text-align: right;\n",
              "    }\n",
              "</style>\n",
              "<table border=\"1\" class=\"dataframe\">\n",
              "  <thead>\n",
              "    <tr style=\"text-align: right;\">\n",
              "      <th></th>\n",
              "      <th>Id</th>\n",
              "      <th>Marital_Status</th>\n",
              "      <th>Gender</th>\n",
              "      <th>Name</th>\n",
              "      <th>Employed</th>\n",
              "      <th>Age</th>\n",
              "    </tr>\n",
              "  </thead>\n",
              "  <tbody>\n",
              "    <tr>\n",
              "      <th>0</th>\n",
              "      <td>1</td>\n",
              "      <td>married</td>\n",
              "      <td>male</td>\n",
              "      <td>Lokesh</td>\n",
              "      <td>1</td>\n",
              "      <td>30</td>\n",
              "    </tr>\n",
              "    <tr>\n",
              "      <th>1</th>\n",
              "      <td>2</td>\n",
              "      <td>single</td>\n",
              "      <td>female</td>\n",
              "      <td>Nisha</td>\n",
              "      <td>0</td>\n",
              "      <td>30</td>\n",
              "    </tr>\n",
              "    <tr>\n",
              "      <th>2</th>\n",
              "      <td>3</td>\n",
              "      <td>single</td>\n",
              "      <td>female</td>\n",
              "      <td>Sahar</td>\n",
              "      <td>1</td>\n",
              "      <td>28</td>\n",
              "    </tr>\n",
              "    <tr>\n",
              "      <th>3</th>\n",
              "      <td>4</td>\n",
              "      <td>married</td>\n",
              "      <td>female</td>\n",
              "      <td>Sara</td>\n",
              "      <td>0</td>\n",
              "      <td>25</td>\n",
              "    </tr>\n",
              "    <tr>\n",
              "      <th>4</th>\n",
              "      <td>5</td>\n",
              "      <td>single</td>\n",
              "      <td>male</td>\n",
              "      <td>John</td>\n",
              "      <td>1</td>\n",
              "      <td>40</td>\n",
              "    </tr>\n",
              "    <tr>\n",
              "      <th>5</th>\n",
              "      <td>6</td>\n",
              "      <td>single</td>\n",
              "      <td>male</td>\n",
              "      <td>Kim</td>\n",
              "      <td>1</td>\n",
              "      <td>25</td>\n",
              "    </tr>\n",
              "    <tr>\n",
              "      <th>6</th>\n",
              "      <td>7</td>\n",
              "      <td>married</td>\n",
              "      <td>female</td>\n",
              "      <td>Julia</td>\n",
              "      <td>0</td>\n",
              "      <td>32</td>\n",
              "    </tr>\n",
              "    <tr>\n",
              "      <th>7</th>\n",
              "      <td>8</td>\n",
              "      <td>married</td>\n",
              "      <td>male</td>\n",
              "      <td>Tarak</td>\n",
              "      <td>1</td>\n",
              "      <td>30</td>\n",
              "    </tr>\n",
              "    <tr>\n",
              "      <th>8</th>\n",
              "      <td>9</td>\n",
              "      <td>single</td>\n",
              "      <td>male</td>\n",
              "      <td>Sheldon</td>\n",
              "      <td>1</td>\n",
              "      <td>27</td>\n",
              "    </tr>\n",
              "    <tr>\n",
              "      <th>9</th>\n",
              "      <td>10</td>\n",
              "      <td>single</td>\n",
              "      <td>male</td>\n",
              "      <td>Raj</td>\n",
              "      <td>1</td>\n",
              "      <td>25</td>\n",
              "    </tr>\n",
              "    <tr>\n",
              "      <th>10</th>\n",
              "      <td>11</td>\n",
              "      <td>single</td>\n",
              "      <td>male</td>\n",
              "      <td>Leonard</td>\n",
              "      <td>1</td>\n",
              "      <td>26</td>\n",
              "    </tr>\n",
              "    <tr>\n",
              "      <th>11</th>\n",
              "      <td>12</td>\n",
              "      <td>single</td>\n",
              "      <td>female</td>\n",
              "      <td>Penny</td>\n",
              "      <td>0</td>\n",
              "      <td>23</td>\n",
              "    </tr>\n",
              "    <tr>\n",
              "      <th>12</th>\n",
              "      <td>13</td>\n",
              "      <td>single</td>\n",
              "      <td>male</td>\n",
              "      <td>Howard</td>\n",
              "      <td>1</td>\n",
              "      <td>22</td>\n",
              "    </tr>\n",
              "  </tbody>\n",
              "</table>\n",
              "</div>"
            ],
            "text/plain": [
              "    Id Marital_Status  Gender     Name  Employed  Age\n",
              "0    1        married    male   Lokesh         1   30\n",
              "1    2         single  female    Nisha         0   30\n",
              "2    3         single  female    Sahar         1   28\n",
              "3    4        married  female     Sara         0   25\n",
              "4    5         single    male     John         1   40\n",
              "5    6         single    male      Kim         1   25\n",
              "6    7        married  female    Julia         0   32\n",
              "7    8        married    male    Tarak         1   30\n",
              "8    9         single    male  Sheldon         1   27\n",
              "9   10         single    male      Raj         1   25\n",
              "10  11         single    male  Leonard         1   26\n",
              "11  12         single  female    Penny         0   23\n",
              "12  13         single    male   Howard         1   22"
            ]
          },
          "metadata": {
            "tags": []
          },
          "execution_count": 25
        }
      ]
    },
    {
      "cell_type": "markdown",
      "metadata": {
        "id": "JspZill-aNjr",
        "colab_type": "text"
      },
      "source": [
        "\n",
        "\n",
        "---\n",
        "\n",
        "\n",
        "**To see the first two rows :**\n",
        "\n",
        "\n",
        "---\n",
        "\n"
      ]
    },
    {
      "cell_type": "code",
      "metadata": {
        "id": "lNvzTzIEaEIm",
        "colab_type": "code",
        "colab": {
          "base_uri": "https://localhost:8080/",
          "height": 110
        },
        "outputId": "55773aba-da0a-4a23-cb6c-e2cd150e577d"
      },
      "source": [
        "CustomerData.head(2)"
      ],
      "execution_count": 26,
      "outputs": [
        {
          "output_type": "execute_result",
          "data": {
            "text/html": [
              "<div>\n",
              "<style scoped>\n",
              "    .dataframe tbody tr th:only-of-type {\n",
              "        vertical-align: middle;\n",
              "    }\n",
              "\n",
              "    .dataframe tbody tr th {\n",
              "        vertical-align: top;\n",
              "    }\n",
              "\n",
              "    .dataframe thead th {\n",
              "        text-align: right;\n",
              "    }\n",
              "</style>\n",
              "<table border=\"1\" class=\"dataframe\">\n",
              "  <thead>\n",
              "    <tr style=\"text-align: right;\">\n",
              "      <th></th>\n",
              "      <th>Id</th>\n",
              "      <th>Marital_Status</th>\n",
              "      <th>Gender</th>\n",
              "      <th>Name</th>\n",
              "      <th>Employed</th>\n",
              "      <th>Age</th>\n",
              "    </tr>\n",
              "  </thead>\n",
              "  <tbody>\n",
              "    <tr>\n",
              "      <th>0</th>\n",
              "      <td>1</td>\n",
              "      <td>married</td>\n",
              "      <td>male</td>\n",
              "      <td>Lokesh</td>\n",
              "      <td>1</td>\n",
              "      <td>30</td>\n",
              "    </tr>\n",
              "    <tr>\n",
              "      <th>1</th>\n",
              "      <td>2</td>\n",
              "      <td>single</td>\n",
              "      <td>female</td>\n",
              "      <td>Nisha</td>\n",
              "      <td>0</td>\n",
              "      <td>30</td>\n",
              "    </tr>\n",
              "  </tbody>\n",
              "</table>\n",
              "</div>"
            ],
            "text/plain": [
              "   Id Marital_Status  Gender    Name  Employed  Age\n",
              "0   1        married    male  Lokesh         1   30\n",
              "1   2         single  female   Nisha         0   30"
            ]
          },
          "metadata": {
            "tags": []
          },
          "execution_count": 26
        }
      ]
    },
    {
      "cell_type": "markdown",
      "metadata": {
        "id": "YGeSsx66awOB",
        "colab_type": "text"
      },
      "source": [
        "\n",
        "\n",
        "---\n",
        "\n",
        "\n",
        "**A check on how pandas interpreted each of the column data types can be done by requesting the pandas dtypes\n",
        "attribut**\n",
        "\n",
        "\n",
        "---\n",
        "\n"
      ]
    },
    {
      "cell_type": "code",
      "metadata": {
        "id": "D--xGYzZa_Ro",
        "colab_type": "code",
        "colab": {
          "base_uri": "https://localhost:8080/",
          "height": 139
        },
        "outputId": "1d41933b-8492-4fb3-de50-ced2b32b5f6d"
      },
      "source": [
        "CustomerData.dtypes"
      ],
      "execution_count": 27,
      "outputs": [
        {
          "output_type": "execute_result",
          "data": {
            "text/plain": [
              "Id                 int64\n",
              "Marital_Status    object\n",
              "Gender            object\n",
              "Name              object\n",
              "Employed           int64\n",
              "Age                int64\n",
              "dtype: object"
            ]
          },
          "metadata": {
            "tags": []
          },
          "execution_count": 27
        }
      ]
    },
    {
      "cell_type": "markdown",
      "metadata": {
        "id": "LPI1sPPKb9ZV",
        "colab_type": "text"
      },
      "source": [
        "\n",
        "\n",
        "---\n",
        "\n",
        "\n",
        "**To store the data in an excel file:**\n",
        "\n",
        "\n",
        "---\n",
        "\n"
      ]
    },
    {
      "cell_type": "code",
      "metadata": {
        "id": "XxvHZIvHcFGz",
        "colab_type": "code",
        "colab": {}
      },
      "source": [
        "CustomerData.to_excel('CustomerData.xlsx', sheet_name='Customers', index=False)"
      ],
      "execution_count": 0,
      "outputs": []
    },
    {
      "cell_type": "code",
      "metadata": {
        "id": "5OkUVbLvcgXv",
        "colab_type": "code",
        "colab": {
          "base_uri": "https://localhost:8080/",
          "height": 447
        },
        "outputId": "7b60cb0f-e176-4081-bade-72a6809c9294"
      },
      "source": [
        "CD = pd.read_excel('CustomerData.xlsx', sheet_name='Customers')\n",
        "CD"
      ],
      "execution_count": 31,
      "outputs": [
        {
          "output_type": "execute_result",
          "data": {
            "text/html": [
              "<div>\n",
              "<style scoped>\n",
              "    .dataframe tbody tr th:only-of-type {\n",
              "        vertical-align: middle;\n",
              "    }\n",
              "\n",
              "    .dataframe tbody tr th {\n",
              "        vertical-align: top;\n",
              "    }\n",
              "\n",
              "    .dataframe thead th {\n",
              "        text-align: right;\n",
              "    }\n",
              "</style>\n",
              "<table border=\"1\" class=\"dataframe\">\n",
              "  <thead>\n",
              "    <tr style=\"text-align: right;\">\n",
              "      <th></th>\n",
              "      <th>Id</th>\n",
              "      <th>Marital_Status</th>\n",
              "      <th>Gender</th>\n",
              "      <th>Name</th>\n",
              "      <th>Employed</th>\n",
              "      <th>Age</th>\n",
              "    </tr>\n",
              "  </thead>\n",
              "  <tbody>\n",
              "    <tr>\n",
              "      <th>0</th>\n",
              "      <td>1</td>\n",
              "      <td>married</td>\n",
              "      <td>male</td>\n",
              "      <td>Lokesh</td>\n",
              "      <td>1</td>\n",
              "      <td>30</td>\n",
              "    </tr>\n",
              "    <tr>\n",
              "      <th>1</th>\n",
              "      <td>2</td>\n",
              "      <td>single</td>\n",
              "      <td>female</td>\n",
              "      <td>Nisha</td>\n",
              "      <td>0</td>\n",
              "      <td>30</td>\n",
              "    </tr>\n",
              "    <tr>\n",
              "      <th>2</th>\n",
              "      <td>3</td>\n",
              "      <td>single</td>\n",
              "      <td>female</td>\n",
              "      <td>Sahar</td>\n",
              "      <td>1</td>\n",
              "      <td>28</td>\n",
              "    </tr>\n",
              "    <tr>\n",
              "      <th>3</th>\n",
              "      <td>4</td>\n",
              "      <td>married</td>\n",
              "      <td>female</td>\n",
              "      <td>Sara</td>\n",
              "      <td>0</td>\n",
              "      <td>25</td>\n",
              "    </tr>\n",
              "    <tr>\n",
              "      <th>4</th>\n",
              "      <td>5</td>\n",
              "      <td>single</td>\n",
              "      <td>male</td>\n",
              "      <td>John</td>\n",
              "      <td>1</td>\n",
              "      <td>40</td>\n",
              "    </tr>\n",
              "    <tr>\n",
              "      <th>5</th>\n",
              "      <td>6</td>\n",
              "      <td>single</td>\n",
              "      <td>male</td>\n",
              "      <td>Kim</td>\n",
              "      <td>1</td>\n",
              "      <td>25</td>\n",
              "    </tr>\n",
              "    <tr>\n",
              "      <th>6</th>\n",
              "      <td>7</td>\n",
              "      <td>married</td>\n",
              "      <td>female</td>\n",
              "      <td>Julia</td>\n",
              "      <td>0</td>\n",
              "      <td>32</td>\n",
              "    </tr>\n",
              "    <tr>\n",
              "      <th>7</th>\n",
              "      <td>8</td>\n",
              "      <td>married</td>\n",
              "      <td>male</td>\n",
              "      <td>Tarak</td>\n",
              "      <td>1</td>\n",
              "      <td>30</td>\n",
              "    </tr>\n",
              "    <tr>\n",
              "      <th>8</th>\n",
              "      <td>9</td>\n",
              "      <td>single</td>\n",
              "      <td>male</td>\n",
              "      <td>Sheldon</td>\n",
              "      <td>1</td>\n",
              "      <td>27</td>\n",
              "    </tr>\n",
              "    <tr>\n",
              "      <th>9</th>\n",
              "      <td>10</td>\n",
              "      <td>single</td>\n",
              "      <td>male</td>\n",
              "      <td>Raj</td>\n",
              "      <td>1</td>\n",
              "      <td>25</td>\n",
              "    </tr>\n",
              "    <tr>\n",
              "      <th>10</th>\n",
              "      <td>11</td>\n",
              "      <td>single</td>\n",
              "      <td>male</td>\n",
              "      <td>Leonard</td>\n",
              "      <td>1</td>\n",
              "      <td>26</td>\n",
              "    </tr>\n",
              "    <tr>\n",
              "      <th>11</th>\n",
              "      <td>12</td>\n",
              "      <td>single</td>\n",
              "      <td>female</td>\n",
              "      <td>Penny</td>\n",
              "      <td>0</td>\n",
              "      <td>23</td>\n",
              "    </tr>\n",
              "    <tr>\n",
              "      <th>12</th>\n",
              "      <td>13</td>\n",
              "      <td>single</td>\n",
              "      <td>male</td>\n",
              "      <td>Howard</td>\n",
              "      <td>1</td>\n",
              "      <td>22</td>\n",
              "    </tr>\n",
              "  </tbody>\n",
              "</table>\n",
              "</div>"
            ],
            "text/plain": [
              "    Id Marital_Status  Gender     Name  Employed  Age\n",
              "0    1        married    male   Lokesh         1   30\n",
              "1    2         single  female    Nisha         0   30\n",
              "2    3         single  female    Sahar         1   28\n",
              "3    4        married  female     Sara         0   25\n",
              "4    5         single    male     John         1   40\n",
              "5    6         single    male      Kim         1   25\n",
              "6    7        married  female    Julia         0   32\n",
              "7    8        married    male    Tarak         1   30\n",
              "8    9         single    male  Sheldon         1   27\n",
              "9   10         single    male      Raj         1   25\n",
              "10  11         single    male  Leonard         1   26\n",
              "11  12         single  female    Penny         0   23\n",
              "12  13         single    male   Howard         1   22"
            ]
          },
          "metadata": {
            "tags": []
          },
          "execution_count": 31
        }
      ]
    },
    {
      "cell_type": "markdown",
      "metadata": {
        "id": "_Sa2eNTDdCEt",
        "colab_type": "text"
      },
      "source": [
        "\n",
        "\n",
        "\n",
        "---\n",
        "\n",
        "\n",
        "**To get a technical summary of a DataFrame**\n",
        "\n",
        "\n",
        "---\n",
        "\n"
      ]
    },
    {
      "cell_type": "code",
      "metadata": {
        "id": "SQD6yYx4dLEB",
        "colab_type": "code",
        "colab": {
          "base_uri": "https://localhost:8080/",
          "height": 243
        },
        "outputId": "367796b4-1109-49d7-c7ae-34e594ca17a7"
      },
      "source": [
        "CustomerData.info()"
      ],
      "execution_count": 32,
      "outputs": [
        {
          "output_type": "stream",
          "text": [
            "<class 'pandas.core.frame.DataFrame'>\n",
            "RangeIndex: 13 entries, 0 to 12\n",
            "Data columns (total 6 columns):\n",
            " #   Column          Non-Null Count  Dtype \n",
            "---  ------          --------------  ----- \n",
            " 0   Id              13 non-null     int64 \n",
            " 1   Marital_Status  13 non-null     object\n",
            " 2   Gender          13 non-null     object\n",
            " 3   Name            13 non-null     object\n",
            " 4   Employed        13 non-null     int64 \n",
            " 5   Age             13 non-null     int64 \n",
            "dtypes: int64(3), object(3)\n",
            "memory usage: 752.0+ bytes\n"
          ],
          "name": "stdout"
        }
      ]
    },
    {
      "cell_type": "markdown",
      "metadata": {
        "id": "lNt_eqzjdth_",
        "colab_type": "text"
      },
      "source": [
        "\n",
        "\n",
        "---\n",
        "\n",
        "\n",
        "\n",
        "**Now let us select one column and look at its type and shape**\n",
        "\n",
        "\n",
        "---\n",
        "\n"
      ]
    },
    {
      "cell_type": "code",
      "metadata": {
        "id": "H3XGwmu2dsft",
        "colab_type": "code",
        "colab": {
          "base_uri": "https://localhost:8080/",
          "height": 121
        },
        "outputId": "427b666f-5baa-4a27-9018-7dd5fa1deb58"
      },
      "source": [
        "sex = CustomerData[\"Gender\"]\n",
        "#sex\n",
        "sex.head()"
      ],
      "execution_count": 35,
      "outputs": [
        {
          "output_type": "execute_result",
          "data": {
            "text/plain": [
              "0      male\n",
              "1    female\n",
              "2    female\n",
              "3    female\n",
              "4      male\n",
              "Name: Gender, dtype: object"
            ]
          },
          "metadata": {
            "tags": []
          },
          "execution_count": 35
        }
      ]
    },
    {
      "cell_type": "code",
      "metadata": {
        "id": "ZeTTSKGPeodG",
        "colab_type": "code",
        "colab": {
          "base_uri": "https://localhost:8080/",
          "height": 35
        },
        "outputId": "a28379e6-3c2e-43fe-a0bc-0d3576487b52"
      },
      "source": [
        "sex.shape"
      ],
      "execution_count": 36,
      "outputs": [
        {
          "output_type": "execute_result",
          "data": {
            "text/plain": [
              "(13,)"
            ]
          },
          "metadata": {
            "tags": []
          },
          "execution_count": 36
        }
      ]
    },
    {
      "cell_type": "markdown",
      "metadata": {
        "id": "tg4_WMdne6kL",
        "colab_type": "text"
      },
      "source": [
        "\n",
        "\n",
        "---\n",
        "\n",
        "\n",
        "**To select multiple columns:**\n",
        "\n",
        "\n",
        "---\n",
        "\n"
      ]
    },
    {
      "cell_type": "code",
      "metadata": {
        "id": "mv034bEcfAjZ",
        "colab_type": "code",
        "colab": {
          "base_uri": "https://localhost:8080/",
          "height": 447
        },
        "outputId": "84f71f65-9cb4-4010-cd33-a28564084f2f"
      },
      "source": [
        "CustomerData[[\"Gender\",\"Name\"]]"
      ],
      "execution_count": 37,
      "outputs": [
        {
          "output_type": "execute_result",
          "data": {
            "text/html": [
              "<div>\n",
              "<style scoped>\n",
              "    .dataframe tbody tr th:only-of-type {\n",
              "        vertical-align: middle;\n",
              "    }\n",
              "\n",
              "    .dataframe tbody tr th {\n",
              "        vertical-align: top;\n",
              "    }\n",
              "\n",
              "    .dataframe thead th {\n",
              "        text-align: right;\n",
              "    }\n",
              "</style>\n",
              "<table border=\"1\" class=\"dataframe\">\n",
              "  <thead>\n",
              "    <tr style=\"text-align: right;\">\n",
              "      <th></th>\n",
              "      <th>Gender</th>\n",
              "      <th>Name</th>\n",
              "    </tr>\n",
              "  </thead>\n",
              "  <tbody>\n",
              "    <tr>\n",
              "      <th>0</th>\n",
              "      <td>male</td>\n",
              "      <td>Lokesh</td>\n",
              "    </tr>\n",
              "    <tr>\n",
              "      <th>1</th>\n",
              "      <td>female</td>\n",
              "      <td>Nisha</td>\n",
              "    </tr>\n",
              "    <tr>\n",
              "      <th>2</th>\n",
              "      <td>female</td>\n",
              "      <td>Sahar</td>\n",
              "    </tr>\n",
              "    <tr>\n",
              "      <th>3</th>\n",
              "      <td>female</td>\n",
              "      <td>Sara</td>\n",
              "    </tr>\n",
              "    <tr>\n",
              "      <th>4</th>\n",
              "      <td>male</td>\n",
              "      <td>John</td>\n",
              "    </tr>\n",
              "    <tr>\n",
              "      <th>5</th>\n",
              "      <td>male</td>\n",
              "      <td>Kim</td>\n",
              "    </tr>\n",
              "    <tr>\n",
              "      <th>6</th>\n",
              "      <td>female</td>\n",
              "      <td>Julia</td>\n",
              "    </tr>\n",
              "    <tr>\n",
              "      <th>7</th>\n",
              "      <td>male</td>\n",
              "      <td>Tarak</td>\n",
              "    </tr>\n",
              "    <tr>\n",
              "      <th>8</th>\n",
              "      <td>male</td>\n",
              "      <td>Sheldon</td>\n",
              "    </tr>\n",
              "    <tr>\n",
              "      <th>9</th>\n",
              "      <td>male</td>\n",
              "      <td>Raj</td>\n",
              "    </tr>\n",
              "    <tr>\n",
              "      <th>10</th>\n",
              "      <td>male</td>\n",
              "      <td>Leonard</td>\n",
              "    </tr>\n",
              "    <tr>\n",
              "      <th>11</th>\n",
              "      <td>female</td>\n",
              "      <td>Penny</td>\n",
              "    </tr>\n",
              "    <tr>\n",
              "      <th>12</th>\n",
              "      <td>male</td>\n",
              "      <td>Howard</td>\n",
              "    </tr>\n",
              "  </tbody>\n",
              "</table>\n",
              "</div>"
            ],
            "text/plain": [
              "    Gender     Name\n",
              "0     male   Lokesh\n",
              "1   female    Nisha\n",
              "2   female    Sahar\n",
              "3   female     Sara\n",
              "4     male     John\n",
              "5     male      Kim\n",
              "6   female    Julia\n",
              "7     male    Tarak\n",
              "8     male  Sheldon\n",
              "9     male      Raj\n",
              "10    male  Leonard\n",
              "11  female    Penny\n",
              "12    male   Howard"
            ]
          },
          "metadata": {
            "tags": []
          },
          "execution_count": 37
        }
      ]
    },
    {
      "cell_type": "markdown",
      "metadata": {
        "id": "a8wnmPdSg0wV",
        "colab_type": "text"
      },
      "source": [
        "\n",
        "\n",
        "---\n",
        "\n",
        "\n",
        "**To filter specific rows from a DataFrame:** \n",
        "pass the customer who are elder than 29\n",
        "\n",
        "\n",
        "---\n",
        "\n"
      ]
    },
    {
      "cell_type": "code",
      "metadata": {
        "id": "-9aS9uTVgz4h",
        "colab_type": "code",
        "colab": {
          "base_uri": "https://localhost:8080/",
          "height": 202
        },
        "outputId": "b48101d8-3f1c-4fc0-f7a3-d8dbc2d1fc31"
      },
      "source": [
        "above_29 = CustomerData[CustomerData[\"Age\"]>29]\n",
        "above_29.head()"
      ],
      "execution_count": 38,
      "outputs": [
        {
          "output_type": "execute_result",
          "data": {
            "text/html": [
              "<div>\n",
              "<style scoped>\n",
              "    .dataframe tbody tr th:only-of-type {\n",
              "        vertical-align: middle;\n",
              "    }\n",
              "\n",
              "    .dataframe tbody tr th {\n",
              "        vertical-align: top;\n",
              "    }\n",
              "\n",
              "    .dataframe thead th {\n",
              "        text-align: right;\n",
              "    }\n",
              "</style>\n",
              "<table border=\"1\" class=\"dataframe\">\n",
              "  <thead>\n",
              "    <tr style=\"text-align: right;\">\n",
              "      <th></th>\n",
              "      <th>Id</th>\n",
              "      <th>Marital_Status</th>\n",
              "      <th>Gender</th>\n",
              "      <th>Name</th>\n",
              "      <th>Employed</th>\n",
              "      <th>Age</th>\n",
              "    </tr>\n",
              "  </thead>\n",
              "  <tbody>\n",
              "    <tr>\n",
              "      <th>0</th>\n",
              "      <td>1</td>\n",
              "      <td>married</td>\n",
              "      <td>male</td>\n",
              "      <td>Lokesh</td>\n",
              "      <td>1</td>\n",
              "      <td>30</td>\n",
              "    </tr>\n",
              "    <tr>\n",
              "      <th>1</th>\n",
              "      <td>2</td>\n",
              "      <td>single</td>\n",
              "      <td>female</td>\n",
              "      <td>Nisha</td>\n",
              "      <td>0</td>\n",
              "      <td>30</td>\n",
              "    </tr>\n",
              "    <tr>\n",
              "      <th>4</th>\n",
              "      <td>5</td>\n",
              "      <td>single</td>\n",
              "      <td>male</td>\n",
              "      <td>John</td>\n",
              "      <td>1</td>\n",
              "      <td>40</td>\n",
              "    </tr>\n",
              "    <tr>\n",
              "      <th>6</th>\n",
              "      <td>7</td>\n",
              "      <td>married</td>\n",
              "      <td>female</td>\n",
              "      <td>Julia</td>\n",
              "      <td>0</td>\n",
              "      <td>32</td>\n",
              "    </tr>\n",
              "    <tr>\n",
              "      <th>7</th>\n",
              "      <td>8</td>\n",
              "      <td>married</td>\n",
              "      <td>male</td>\n",
              "      <td>Tarak</td>\n",
              "      <td>1</td>\n",
              "      <td>30</td>\n",
              "    </tr>\n",
              "  </tbody>\n",
              "</table>\n",
              "</div>"
            ],
            "text/plain": [
              "   Id Marital_Status  Gender    Name  Employed  Age\n",
              "0   1        married    male  Lokesh         1   30\n",
              "1   2         single  female   Nisha         0   30\n",
              "4   5         single    male    John         1   40\n",
              "6   7        married  female   Julia         0   32\n",
              "7   8        married    male   Tarak         1   30"
            ]
          },
          "metadata": {
            "tags": []
          },
          "execution_count": 38
        }
      ]
    },
    {
      "cell_type": "markdown",
      "metadata": {
        "id": "6recC4joh0g1",
        "colab_type": "text"
      },
      "source": [
        "\n",
        "\n",
        "\n",
        "---\n",
        "\n",
        "\n",
        "**How to select specific rows and columns from a DataFrame**\n",
        "\n",
        "\n",
        "---\n",
        "\n"
      ]
    },
    {
      "cell_type": "code",
      "metadata": {
        "id": "d3icRFcwh6pN",
        "colab_type": "code",
        "colab": {
          "base_uri": "https://localhost:8080/",
          "height": 121
        },
        "outputId": "7f3e27fe-c99c-4970-cf82-4442dbabb126"
      },
      "source": [
        "names_above_29 = CustomerData.loc[CustomerData[\"Age\"]>29,\"Name\"]\n",
        "names_above_29.head()"
      ],
      "execution_count": 39,
      "outputs": [
        {
          "output_type": "execute_result",
          "data": {
            "text/plain": [
              "0    Lokesh\n",
              "1     Nisha\n",
              "4      John\n",
              "6     Julia\n",
              "7     Tarak\n",
              "Name: Name, dtype: object"
            ]
          },
          "metadata": {
            "tags": []
          },
          "execution_count": 39
        }
      ]
    },
    {
      "cell_type": "markdown",
      "metadata": {
        "id": "gM0lGiHWjOIT",
        "colab_type": "text"
      },
      "source": [
        "\n",
        "\n",
        "\n",
        "---\n",
        "\n",
        "\n",
        "**Select rows from 1 to 3 and columns 1,2:**\n",
        "\n",
        "\n",
        "---\n",
        "\n"
      ]
    },
    {
      "cell_type": "code",
      "metadata": {
        "id": "Dsd_Bz7_jZ3n",
        "colab_type": "code",
        "colab": {
          "base_uri": "https://localhost:8080/",
          "height": 141
        },
        "outputId": "d8338a4a-a205-4b11-cdaa-4d6b904968e6"
      },
      "source": [
        "CustomerData.iloc[0:3,0:2]"
      ],
      "execution_count": 44,
      "outputs": [
        {
          "output_type": "execute_result",
          "data": {
            "text/html": [
              "<div>\n",
              "<style scoped>\n",
              "    .dataframe tbody tr th:only-of-type {\n",
              "        vertical-align: middle;\n",
              "    }\n",
              "\n",
              "    .dataframe tbody tr th {\n",
              "        vertical-align: top;\n",
              "    }\n",
              "\n",
              "    .dataframe thead th {\n",
              "        text-align: right;\n",
              "    }\n",
              "</style>\n",
              "<table border=\"1\" class=\"dataframe\">\n",
              "  <thead>\n",
              "    <tr style=\"text-align: right;\">\n",
              "      <th></th>\n",
              "      <th>Id</th>\n",
              "      <th>Marital_Status</th>\n",
              "    </tr>\n",
              "  </thead>\n",
              "  <tbody>\n",
              "    <tr>\n",
              "      <th>0</th>\n",
              "      <td>1</td>\n",
              "      <td>married</td>\n",
              "    </tr>\n",
              "    <tr>\n",
              "      <th>1</th>\n",
              "      <td>2</td>\n",
              "      <td>single</td>\n",
              "    </tr>\n",
              "    <tr>\n",
              "      <th>2</th>\n",
              "      <td>3</td>\n",
              "      <td>single</td>\n",
              "    </tr>\n",
              "  </tbody>\n",
              "</table>\n",
              "</div>"
            ],
            "text/plain": [
              "   Id Marital_Status\n",
              "0   1        married\n",
              "1   2         single\n",
              "2   3         single"
            ]
          },
          "metadata": {
            "tags": []
          },
          "execution_count": 44
        }
      ]
    },
    {
      "cell_type": "markdown",
      "metadata": {
        "id": "ookOS_UIkOdi",
        "colab_type": "text"
      },
      "source": [
        "\n",
        "\n",
        "---\n",
        "\n",
        "\n",
        "**Note:**\n",
        "1. Select specific rows and/or columns using loc when using the row and column names\n",
        "2. Select specific rows and/or columns using iloc when using the positions in the table\n",
        "\n",
        "\n",
        "---\n",
        "\n"
      ]
    },
    {
      "cell_type": "markdown",
      "metadata": {
        "id": "Xpf5ch8qaxNk",
        "colab_type": "text"
      },
      "source": [
        "\n",
        "\n",
        "---\n",
        "\n",
        "**Plotting**\n",
        "\n",
        "---\n",
        "\n"
      ]
    },
    {
      "cell_type": "code",
      "metadata": {
        "id": "an15-6I9kWbF",
        "colab_type": "code",
        "colab": {}
      },
      "source": [
        "# import matplotlib.pyplot as plt"
      ],
      "execution_count": 0,
      "outputs": []
    },
    {
      "cell_type": "code",
      "metadata": {
        "id": "qUZAS9u1ksOt",
        "colab_type": "code",
        "colab": {}
      },
      "source": [
        "# CustomerData.plot()"
      ],
      "execution_count": 0,
      "outputs": []
    },
    {
      "cell_type": "markdown",
      "metadata": {
        "id": "HQNP529nlCjK",
        "colab_type": "text"
      },
      "source": [
        "\n",
        "\n",
        "\n",
        "---\n",
        "\n",
        "\n",
        "**To plot only the columns of the data table with the data from Age**\n",
        "\n",
        "\n",
        "---\n",
        "\n"
      ]
    },
    {
      "cell_type": "code",
      "metadata": {
        "id": "pr2A66jvlMWK",
        "colab_type": "code",
        "colab": {}
      },
      "source": [
        "# CustomerData[\"Age\"].plot()"
      ],
      "execution_count": 0,
      "outputs": []
    },
    {
      "cell_type": "code",
      "metadata": {
        "id": "a46UwvXkmK0E",
        "colab_type": "code",
        "colab": {}
      },
      "source": [
        "# CustomerData.plot.scatter(x=\"Id\",\n",
        "#                           y=\"Age\")"
      ],
      "execution_count": 0,
      "outputs": []
    },
    {
      "cell_type": "code",
      "metadata": {
        "id": "lkEGVsK6myPN",
        "colab_type": "code",
        "colab": {}
      },
      "source": [
        "# CustomerData.plot.box()"
      ],
      "execution_count": 0,
      "outputs": []
    },
    {
      "cell_type": "markdown",
      "metadata": {
        "id": "hJXnYn8SnZsf",
        "colab_type": "text"
      },
      "source": [
        "\n",
        "\n",
        "---\n",
        "\n",
        "\n",
        "**Some Statistics**\n",
        "\n",
        "\n",
        "---\n",
        "\n"
      ]
    },
    {
      "cell_type": "code",
      "metadata": {
        "id": "rtnS9JUFngdz",
        "colab_type": "code",
        "colab": {}
      },
      "source": [
        "# CustomerData[\"Age\"].mean()"
      ],
      "execution_count": 0,
      "outputs": []
    },
    {
      "cell_type": "code",
      "metadata": {
        "id": "seDuIPFWpQSB",
        "colab_type": "code",
        "colab": {}
      },
      "source": [
        "# CustomerData[\"Age\"].median()"
      ],
      "execution_count": 0,
      "outputs": []
    },
    {
      "cell_type": "code",
      "metadata": {
        "id": "d6VVZBWjpYv-",
        "colab_type": "code",
        "colab": {}
      },
      "source": [
        "# CustomerData[\"Age\"].max()"
      ],
      "execution_count": 0,
      "outputs": []
    },
    {
      "cell_type": "code",
      "metadata": {
        "id": "nv8wI_S8plUW",
        "colab_type": "code",
        "colab": {}
      },
      "source": [
        "# CustomerData[\"Age\"].min()"
      ],
      "execution_count": 0,
      "outputs": []
    },
    {
      "cell_type": "code",
      "metadata": {
        "id": "lh1Vct3bpqX2",
        "colab_type": "code",
        "colab": {}
      },
      "source": [
        "# CustomerData[\"Age\"].skew()"
      ],
      "execution_count": 0,
      "outputs": []
    },
    {
      "cell_type": "code",
      "metadata": {
        "id": "pDGAPJzrKDOR",
        "colab_type": "code",
        "colab": {}
      },
      "source": [
        "# CustomerData[\"Age\"].var()"
      ],
      "execution_count": 0,
      "outputs": []
    },
    {
      "cell_type": "code",
      "metadata": {
        "id": "Ug2d8zQLHPNR",
        "colab_type": "code",
        "colab": {}
      },
      "source": [
        "# CustomerData[\"Age\"].std()"
      ],
      "execution_count": 0,
      "outputs": []
    },
    {
      "cell_type": "code",
      "metadata": {
        "id": "-a2CeeTcJ6ft",
        "colab_type": "code",
        "colab": {}
      },
      "source": [
        "# CustomerData[\"Age\"].mode()"
      ],
      "execution_count": 0,
      "outputs": []
    },
    {
      "cell_type": "markdown",
      "metadata": {
        "id": "aPF7Mm0HrrEH",
        "colab_type": "text"
      },
      "source": [
        "\n",
        "\n",
        "---\n",
        "\n",
        "\n",
        "**Combining overlapping data sets**\n",
        "\n",
        "\n",
        "---\n",
        "\n"
      ]
    },
    {
      "cell_type": "code",
      "metadata": {
        "id": "oIWsl43y5-1h",
        "colab_type": "code",
        "colab": {}
      },
      "source": [
        "# import numpy as np"
      ],
      "execution_count": 0,
      "outputs": []
    },
    {
      "cell_type": "code",
      "metadata": {
        "id": "rSGyQnW-rveu",
        "colab_type": "code",
        "colab": {}
      },
      "source": [
        "# df1 = pd.DataFrame({'A': [1., np.nan, 3., 5., np.nan],\n",
        "#                     'B': [np.nan, 2., 3., np.nan, 6.]})\n",
        "# df2 = pd.DataFrame({'A': [5., 2., 4., np.nan, 3., 7.],\n",
        "#                     'B': [np.nan, np.nan, 3., 4., 6., 8.]})\n"
      ],
      "execution_count": 0,
      "outputs": []
    },
    {
      "cell_type": "code",
      "metadata": {
        "id": "sN7z-jbq6XTp",
        "colab_type": "code",
        "colab": {}
      },
      "source": [
        "# df1"
      ],
      "execution_count": 0,
      "outputs": []
    },
    {
      "cell_type": "code",
      "metadata": {
        "id": "_PM6hhWC6aA9",
        "colab_type": "code",
        "colab": {}
      },
      "source": [
        "# df2"
      ],
      "execution_count": 0,
      "outputs": []
    },
    {
      "cell_type": "code",
      "metadata": {
        "id": "ZoW71GpN6d7O",
        "colab_type": "code",
        "colab": {}
      },
      "source": [
        "# df1.combine_first(df2)"
      ],
      "execution_count": 0,
      "outputs": []
    },
    {
      "cell_type": "markdown",
      "metadata": {
        "id": "Qh2LE6kk7AHR",
        "colab_type": "text"
      },
      "source": [
        "\n",
        "\n",
        "---\n",
        "\n",
        "\n",
        "**combine_first() combines two DataFrame objects where missing values in one \n",
        "DataFrame are conditionally filled with like-labeled values from the other DataFrame.**\n",
        "\n",
        "\n",
        "---\n",
        "\n"
      ]
    },
    {
      "cell_type": "code",
      "metadata": {
        "id": "hkJX92IzFecZ",
        "colab_type": "code",
        "colab": {}
      },
      "source": [
        "# def combiner(x, y):\n",
        "#   return np.where(pd.isna(x), y, x)"
      ],
      "execution_count": 0,
      "outputs": []
    },
    {
      "cell_type": "code",
      "metadata": {
        "id": "BduvgTE97RJU",
        "colab_type": "code",
        "colab": {}
      },
      "source": [
        "# df1 = pd.DataFrame({'A': [1., 2., 3., 5., 6.],\n",
        "#                     'B': [1., np.nan, 3., 4., np.nan]})\n",
        "# df2 = pd.DataFrame({'A': [5., 2., 4., 2., 3.],\n",
        "#                     'B': [7., 3., 4., 6., 8.]})\n",
        "\n",
        "# df3 = combiner(df1,df2)\n",
        "# df3"
      ],
      "execution_count": 0,
      "outputs": []
    },
    {
      "cell_type": "markdown",
      "metadata": {
        "id": "DGHzdQUVG_PQ",
        "colab_type": "text"
      },
      "source": [
        "\n",
        "\n",
        "\n",
        "---\n",
        "\n",
        "\n",
        "**To exclude missing data you can use skipna = True**\n",
        "\n",
        "\n",
        "---\n",
        "\n"
      ]
    },
    {
      "cell_type": "code",
      "metadata": {
        "id": "jxzVpa94G06A",
        "colab_type": "code",
        "colab": {}
      },
      "source": [
        "# df1.sum(axis=1, skipna=True)"
      ],
      "execution_count": 0,
      "outputs": []
    },
    {
      "cell_type": "markdown",
      "metadata": {
        "id": "ozn1F1V1RgQA",
        "colab_type": "text"
      },
      "source": [
        "\n",
        "\n",
        "---\n",
        "\n",
        "\n",
        "**Crosstabs**\n",
        "\n",
        "\n",
        "---\n",
        "\n"
      ]
    },
    {
      "cell_type": "code",
      "metadata": {
        "id": "3PZMLCFMRgqi",
        "colab_type": "code",
        "colab": {}
      },
      "source": [
        "# raw_data = {'regiment': ['Nighthawks', 'Nighthawks', 'Nighthawks', 'Nighthawks', 'Dragoons', 'Dragoons', 'Dragoons', 'Dragoons', 'Scouts', 'Scouts', 'Scouts', 'Scouts'], \n",
        "#         'company': ['infantry', 'infantry', 'cavalry', 'cavalry', 'infantry', 'infantry', 'cavalry', 'cavalry','infantry', 'infantry', 'cavalry', 'cavalry'], \n",
        "#         'experience': ['veteran', 'rookie', 'veteran', 'rookie', 'veteran', 'rookie', 'veteran', 'rookie','veteran', 'rookie', 'veteran', 'rookie'],\n",
        "#         'name': ['Miller', 'Jacobson', 'Ali', 'Milner', 'Cooze', 'Jacon', 'Ryaner', 'Sone', 'Sloan', 'Piger', 'Riani', 'Ali'], \n",
        "#         'preTestScore': [4, 24, 31, 2, 3, 4, 24, 31, 2, 3, 2, 3],\n",
        "#         'postTestScore': [25, 94, 57, 62, 70, 25, 94, 57, 62, 70, 62, 70]}\n",
        "# df = pd.DataFrame(raw_data, columns = ['regiment', 'company', 'experience', 'name', 'preTestScore', 'postTestScore'])\n",
        "# df"
      ],
      "execution_count": 0,
      "outputs": []
    },
    {
      "cell_type": "markdown",
      "metadata": {
        "id": "KUIHPY5MSzYA",
        "colab_type": "text"
      },
      "source": [
        "\n",
        "\n",
        "\n",
        "---\n",
        "\n",
        "\n",
        "**Counting the number of observations by regiment and category**\n",
        "\n",
        "\n",
        "---\n",
        "\n"
      ]
    },
    {
      "cell_type": "code",
      "metadata": {
        "id": "xHYTMK8MSDWN",
        "colab_type": "code",
        "colab": {}
      },
      "source": [
        "# pd.crosstab(df.regiment, df.company, margins=True)"
      ],
      "execution_count": 0,
      "outputs": []
    },
    {
      "cell_type": "markdown",
      "metadata": {
        "id": "Zv-1VrSaS9Fp",
        "colab_type": "text"
      },
      "source": [
        "\n",
        "\n",
        "---\n",
        "\n",
        "\n",
        "**Create a crosstab of the number of rookie and veteran cavalry and infantry soldiers per regiment**\n",
        "\n",
        "\n",
        "---\n",
        "\n"
      ]
    },
    {
      "cell_type": "code",
      "metadata": {
        "id": "Vq5RGmJDTBQR",
        "colab_type": "code",
        "colab": {}
      },
      "source": [
        "# pd.crosstab([df.company, df.experience], df.regiment,  margins=True)"
      ],
      "execution_count": 0,
      "outputs": []
    },
    {
      "cell_type": "markdown",
      "metadata": {
        "id": "gvamokQrTWsq",
        "colab_type": "text"
      },
      "source": [
        "\n",
        "\n",
        "---\n",
        "\n",
        "\n",
        "**get_dummies()**\n",
        "This function is used to convert categorical variable into dummy variable (one-hot encoding)\n",
        "\n",
        "\n",
        "---\n",
        "\n"
      ]
    },
    {
      "cell_type": "code",
      "metadata": {
        "id": "yjUMisjDUKUv",
        "colab_type": "code",
        "colab": {}
      },
      "source": [
        "# List = list('Hello World')\n",
        "# pd.get_dummies(List)"
      ],
      "execution_count": 0,
      "outputs": []
    },
    {
      "cell_type": "code",
      "metadata": {
        "id": "-JwWzmDgUwrT",
        "colab_type": "code",
        "colab": {}
      },
      "source": [
        "# pd.get_dummies(pd.Series(list('abc')), drop_first=True)"
      ],
      "execution_count": 0,
      "outputs": []
    },
    {
      "cell_type": "code",
      "metadata": {
        "id": "ErjhtJGiVyHP",
        "colab_type": "code",
        "colab": {}
      },
      "source": [
        "# pd.get_dummies(pd.Series(list('abc')), dtype = float)"
      ],
      "execution_count": 0,
      "outputs": []
    },
    {
      "cell_type": "markdown",
      "metadata": {
        "id": "aoOM_htTWWKD",
        "colab_type": "text"
      },
      "source": [
        "\n",
        "\n",
        "\n",
        "---\n",
        "\n",
        "\n",
        "**pd.DataFrame()**:\n",
        "converts a numpy array into a data frame\n",
        "\n",
        "\n",
        "---\n",
        "\n"
      ]
    },
    {
      "cell_type": "code",
      "metadata": {
        "id": "w9XIlSI_WlO3",
        "colab_type": "code",
        "colab": {}
      },
      "source": [
        "# Array = np.array([[1,2,3],[4,5,6]])\n",
        "# df1 =pd.DataFrame(Array) \n",
        "# df1"
      ],
      "execution_count": 0,
      "outputs": []
    },
    {
      "cell_type": "markdown",
      "metadata": {
        "id": "CFc0uaCKYwCs",
        "colab_type": "text"
      },
      "source": [
        "\n",
        "\n",
        "---\n",
        "\n",
        "\n",
        "**you can use this function to get a numpy array as well**\n",
        "\n",
        "\n",
        "---\n",
        "\n"
      ]
    },
    {
      "cell_type": "code",
      "metadata": {
        "id": "InTOHwBmYkcq",
        "colab_type": "code",
        "colab": {}
      },
      "source": [
        "# pd.DataFrame({\"A\": [1, 2,3], \"B\": [4,5,6]}).to_numpy()"
      ],
      "execution_count": 0,
      "outputs": []
    },
    {
      "cell_type": "code",
      "metadata": {
        "id": "ECEhZc_m2BPv",
        "colab_type": "code",
        "outputId": "673e2117-cb0e-4790-b6c1-bffde28c2364",
        "colab": {
          "base_uri": "https://localhost:8080/",
          "height": 121
        }
      },
      "source": [
        "from google.colab import drive\n",
        "drive.mount('/gdrive')"
      ],
      "execution_count": 0,
      "outputs": [
        {
          "output_type": "stream",
          "text": [
            "Go to this URL in a browser: https://accounts.google.com/o/oauth2/auth?client_id=947318989803-6bn6qk8qdgf4n4g3pfee6491hc0brc4i.apps.googleusercontent.com&redirect_uri=urn%3aietf%3awg%3aoauth%3a2.0%3aoob&response_type=code&scope=email%20https%3a%2f%2fwww.googleapis.com%2fauth%2fdocs.test%20https%3a%2f%2fwww.googleapis.com%2fauth%2fdrive%20https%3a%2f%2fwww.googleapis.com%2fauth%2fdrive.photos.readonly%20https%3a%2f%2fwww.googleapis.com%2fauth%2fpeopleapi.readonly\n",
            "\n",
            "Enter your authorization code:\n",
            "··········\n",
            "Mounted at /gdrive\n"
          ],
          "name": "stdout"
        }
      ]
    },
    {
      "cell_type": "code",
      "metadata": {
        "id": "fj2ig0oW2NjV",
        "colab_type": "code",
        "outputId": "cc751970-d592-4fde-ce38-4cf181f1867d",
        "colab": {
          "base_uri": "https://localhost:8080/",
          "height": 52
        }
      },
      "source": [
        "!pwd\n",
        "!git clone https://github.com/hemantkiitg/shala_2020"
      ],
      "execution_count": 47,
      "outputs": [
        {
          "output_type": "stream",
          "text": [
            "/content\n",
            "fatal: destination path 'shala_2020' already exists and is not an empty directory.\n"
          ],
          "name": "stdout"
        }
      ]
    },
    {
      "cell_type": "code",
      "metadata": {
        "id": "NmsIEN0Z2OKk",
        "colab_type": "code",
        "outputId": "87fcdfe7-d380-46a3-e95a-1f5e898db9d2",
        "colab": {
          "base_uri": "https://localhost:8080/",
          "height": 50
        }
      },
      "source": [
        "!cd /content/drive\n",
        "!ls"
      ],
      "execution_count": 0,
      "outputs": [
        {
          "output_type": "stream",
          "text": [
            "/bin/bash: line 0: cd: /content/drive: No such file or directory\n",
            "sample_data\n"
          ],
          "name": "stdout"
        }
      ]
    }
  ]
}